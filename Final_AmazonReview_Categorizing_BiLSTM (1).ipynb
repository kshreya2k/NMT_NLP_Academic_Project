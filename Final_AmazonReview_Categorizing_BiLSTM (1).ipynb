{
  "cells": [
    {
      "cell_type": "code",
      "source": [
        "from IPython.display import display, HTML\n",
        "\n",
        "# Create the HTML code for the styled title\n",
        "html_code = \"\"\"\n",
        "<div style=\"text-align: center; font-size: 30px; font-weight: light;\">\n",
        "    <div style=\"color: #E74C3C;\">DSCI-6011-04</div> <!-- Red Color -->\n",
        "    <div style=\"color: #F1C40F;\">Deep Learning Final Project Code</div> <!-- Yellow Color -->\n",
        "    <div style=\"color: #2E86C1;\">University of New Haven</div> <!-- Blue Color with Underline -->\n",
        "</div>\n",
        "\"\"\"\n",
        "\n",
        "# Display the HTML code in the notebook\n",
        "display(HTML(html_code))"
      ],
      "metadata": {
        "colab": {
          "base_uri": "https://localhost:8080/",
          "height": 129
        },
        "id": "k0qvPibqWZrC",
        "outputId": "79783456-6f2d-42f2-94c7-30393de732cf"
      },
      "execution_count": 1,
      "outputs": [
        {
          "output_type": "display_data",
          "data": {
            "text/plain": [
              "<IPython.core.display.HTML object>"
            ],
            "text/html": [
              "\n",
              "<div style=\"text-align: center; font-size: 30px; font-weight: light;\">\n",
              "    <div style=\"color: #E74C3C;\">DSCI-6011-04</div> <!-- Red Color -->\n",
              "    <div style=\"color: #F1C40F;\">Deep Learning Final Project Code</div> <!-- Yellow Color -->\n",
              "    <div style=\"color: #2E86C1;\">University of New Haven</div> <!-- Blue Color with Underline -->\n",
              "</div>\n"
            ]
          },
          "metadata": {}
        }
      ]
    },
    {
      "cell_type": "markdown",
      "metadata": {
        "id": "pVBXLawKG-Zx"
      },
      "source": [
        "# Data Aquisition"
      ]
    },
    {
      "cell_type": "code",
      "execution_count": 2,
      "metadata": {
        "colab": {
          "base_uri": "https://localhost:8080/"
        },
        "id": "Wp-JUxw8WBiV",
        "outputId": "92f4794a-d733-4e75-a394-c236c22673b5"
      },
      "outputs": [
        {
          "output_type": "stream",
          "name": "stdout",
          "text": [
            "Conversion completed. CSV file saved at: /content/Appliances.csv\n"
          ]
        }
      ],
      "source": [
        "import json\n",
        "import csv\n",
        "\n",
        "def jsonl_to_csv(jsonl_file, csv_file):\n",
        "    \"\"\"\n",
        "    Converts a JSONL file to a CSV file.\n",
        "\n",
        "    Args:\n",
        "    - jsonl_file (str): Path to the JSONL file.\n",
        "    - csv_file (str): Path to the output CSV file.\n",
        "    \"\"\"\n",
        "    try:\n",
        "        with open(jsonl_file, 'r', encoding='utf-8') as infile, open(csv_file, 'w', newline='', encoding='utf-8') as outfile:\n",
        "            # Read the first JSON object to get fieldnames for the CSV\n",
        "            first_line = json.loads(infile.readline().strip())\n",
        "            fieldnames = list(first_line.keys())\n",
        "\n",
        "            # Write the CSV headers\n",
        "            writer = csv.DictWriter(outfile, fieldnames=fieldnames)\n",
        "            writer.writeheader()\n",
        "\n",
        "            # Write the first line and process the rest\n",
        "            writer.writerow(first_line)\n",
        "            for line in infile:\n",
        "                writer.writerow(json.loads(line.strip()))\n",
        "\n",
        "        print(f\"Conversion completed. CSV file saved at: {csv_file}\")\n",
        "    except Exception as e:\n",
        "        print(f\"An error occurred: {e}\")\n",
        "\n",
        "# File paths\n",
        "jsonl_file = '/content/Appliances.jsonl'  # Input JSONL file path\n",
        "csv_file = '/content/Appliances.csv'     # Output CSV file path\n",
        "\n",
        "# Convert the JSONL file to CSV\n",
        "jsonl_to_csv(jsonl_file, csv_file)\n"
      ]
    },
    {
      "cell_type": "code",
      "execution_count": 3,
      "metadata": {
        "colab": {
          "base_uri": "https://localhost:8080/"
        },
        "id": "Iw2635P-v2TH",
        "outputId": "27f4fb58-9904-48eb-c641-d230d42fe294"
      },
      "outputs": [
        {
          "output_type": "stream",
          "name": "stdout",
          "text": [
            "<class 'pandas.core.frame.DataFrame'>\n",
            "RangeIndex: 2128605 entries, 0 to 2128604\n",
            "Data columns (total 10 columns):\n",
            " #   Column             Dtype  \n",
            "---  ------             -----  \n",
            " 0   rating             float64\n",
            " 1   title              object \n",
            " 2   text               object \n",
            " 3   images             object \n",
            " 4   asin               object \n",
            " 5   parent_asin        object \n",
            " 6   user_id            object \n",
            " 7   timestamp          int64  \n",
            " 8   helpful_vote       int64  \n",
            " 9   verified_purchase  bool   \n",
            "dtypes: bool(1), float64(1), int64(2), object(6)\n",
            "memory usage: 148.2+ MB\n"
          ]
        }
      ],
      "source": [
        "import pandas as pd\n",
        "\n",
        "df = pd.read_csv(csv_file)\n",
        "\n",
        "df.info()"
      ]
    },
    {
      "cell_type": "code",
      "execution_count": 4,
      "metadata": {
        "colab": {
          "base_uri": "https://localhost:8080/",
          "height": 345
        },
        "id": "8ky3l6CpwZGd",
        "outputId": "c156db17-042a-480b-ec7c-9e10920a6a78"
      },
      "outputs": [
        {
          "output_type": "execute_result",
          "data": {
            "text/plain": [
              "   rating              title  \\\n",
              "0     5.0         Work great   \n",
              "1     5.0  excellent product   \n",
              "2     5.0    Happy customer!   \n",
              "3     5.0      Amazing value   \n",
              "4     5.0        Dryer parts   \n",
              "\n",
              "                                                text images        asin  \\\n",
              "0              work great. use a new one every month     []  B01N0TQ0OH   \n",
              "1                            Little on the thin side     []  B07DD2DMXB   \n",
              "2                   Quick delivery, fixed the issue!     []  B082W3Z9YK   \n",
              "3  I wasn't sure whether these were worth it or n...     []  B078W2BJY8   \n",
              "4  Easy to install got the product expected to re...     []  B08C9LPCQV   \n",
              "\n",
              "  parent_asin                       user_id      timestamp  helpful_vote  \\\n",
              "0  B01N0TQ0OH  AGKHLEW2SOWHNMFQIJGBECAF7INQ  1519317108692             0   \n",
              "1  B07DD37QPZ  AHWWLSPCJMALVHDDVSUGICL6RUCA  1664746863446             0   \n",
              "2  B082W3Z9YK  AHZIJGKEWRTAEOZ673G5B3SNXEGQ  1607225435363             0   \n",
              "3  B078W2BJY8  AFGUPTDFAWOHHL4LZDV27ERDNOYQ  1534104184306             0   \n",
              "4  B08C9LPCQV  AELFJFAXQERUSMTXJQ6SYFFRDWMA  1620176603754             0   \n",
              "\n",
              "   verified_purchase  \n",
              "0               True  \n",
              "1               True  \n",
              "2               True  \n",
              "3               True  \n",
              "4               True  "
            ],
            "text/html": [
              "\n",
              "  <div id=\"df-c8e968ef-8c9f-4ec7-b39f-aa09908fa20d\" class=\"colab-df-container\">\n",
              "    <div>\n",
              "<style scoped>\n",
              "    .dataframe tbody tr th:only-of-type {\n",
              "        vertical-align: middle;\n",
              "    }\n",
              "\n",
              "    .dataframe tbody tr th {\n",
              "        vertical-align: top;\n",
              "    }\n",
              "\n",
              "    .dataframe thead th {\n",
              "        text-align: right;\n",
              "    }\n",
              "</style>\n",
              "<table border=\"1\" class=\"dataframe\">\n",
              "  <thead>\n",
              "    <tr style=\"text-align: right;\">\n",
              "      <th></th>\n",
              "      <th>rating</th>\n",
              "      <th>title</th>\n",
              "      <th>text</th>\n",
              "      <th>images</th>\n",
              "      <th>asin</th>\n",
              "      <th>parent_asin</th>\n",
              "      <th>user_id</th>\n",
              "      <th>timestamp</th>\n",
              "      <th>helpful_vote</th>\n",
              "      <th>verified_purchase</th>\n",
              "    </tr>\n",
              "  </thead>\n",
              "  <tbody>\n",
              "    <tr>\n",
              "      <th>0</th>\n",
              "      <td>5.0</td>\n",
              "      <td>Work great</td>\n",
              "      <td>work great. use a new one every month</td>\n",
              "      <td>[]</td>\n",
              "      <td>B01N0TQ0OH</td>\n",
              "      <td>B01N0TQ0OH</td>\n",
              "      <td>AGKHLEW2SOWHNMFQIJGBECAF7INQ</td>\n",
              "      <td>1519317108692</td>\n",
              "      <td>0</td>\n",
              "      <td>True</td>\n",
              "    </tr>\n",
              "    <tr>\n",
              "      <th>1</th>\n",
              "      <td>5.0</td>\n",
              "      <td>excellent product</td>\n",
              "      <td>Little on the thin side</td>\n",
              "      <td>[]</td>\n",
              "      <td>B07DD2DMXB</td>\n",
              "      <td>B07DD37QPZ</td>\n",
              "      <td>AHWWLSPCJMALVHDDVSUGICL6RUCA</td>\n",
              "      <td>1664746863446</td>\n",
              "      <td>0</td>\n",
              "      <td>True</td>\n",
              "    </tr>\n",
              "    <tr>\n",
              "      <th>2</th>\n",
              "      <td>5.0</td>\n",
              "      <td>Happy customer!</td>\n",
              "      <td>Quick delivery, fixed the issue!</td>\n",
              "      <td>[]</td>\n",
              "      <td>B082W3Z9YK</td>\n",
              "      <td>B082W3Z9YK</td>\n",
              "      <td>AHZIJGKEWRTAEOZ673G5B3SNXEGQ</td>\n",
              "      <td>1607225435363</td>\n",
              "      <td>0</td>\n",
              "      <td>True</td>\n",
              "    </tr>\n",
              "    <tr>\n",
              "      <th>3</th>\n",
              "      <td>5.0</td>\n",
              "      <td>Amazing value</td>\n",
              "      <td>I wasn't sure whether these were worth it or n...</td>\n",
              "      <td>[]</td>\n",
              "      <td>B078W2BJY8</td>\n",
              "      <td>B078W2BJY8</td>\n",
              "      <td>AFGUPTDFAWOHHL4LZDV27ERDNOYQ</td>\n",
              "      <td>1534104184306</td>\n",
              "      <td>0</td>\n",
              "      <td>True</td>\n",
              "    </tr>\n",
              "    <tr>\n",
              "      <th>4</th>\n",
              "      <td>5.0</td>\n",
              "      <td>Dryer parts</td>\n",
              "      <td>Easy to install got the product expected to re...</td>\n",
              "      <td>[]</td>\n",
              "      <td>B08C9LPCQV</td>\n",
              "      <td>B08C9LPCQV</td>\n",
              "      <td>AELFJFAXQERUSMTXJQ6SYFFRDWMA</td>\n",
              "      <td>1620176603754</td>\n",
              "      <td>0</td>\n",
              "      <td>True</td>\n",
              "    </tr>\n",
              "  </tbody>\n",
              "</table>\n",
              "</div>\n",
              "    <div class=\"colab-df-buttons\">\n",
              "\n",
              "  <div class=\"colab-df-container\">\n",
              "    <button class=\"colab-df-convert\" onclick=\"convertToInteractive('df-c8e968ef-8c9f-4ec7-b39f-aa09908fa20d')\"\n",
              "            title=\"Convert this dataframe to an interactive table.\"\n",
              "            style=\"display:none;\">\n",
              "\n",
              "  <svg xmlns=\"http://www.w3.org/2000/svg\" height=\"24px\" viewBox=\"0 -960 960 960\">\n",
              "    <path d=\"M120-120v-720h720v720H120Zm60-500h600v-160H180v160Zm220 220h160v-160H400v160Zm0 220h160v-160H400v160ZM180-400h160v-160H180v160Zm440 0h160v-160H620v160ZM180-180h160v-160H180v160Zm440 0h160v-160H620v160Z\"/>\n",
              "  </svg>\n",
              "    </button>\n",
              "\n",
              "  <style>\n",
              "    .colab-df-container {\n",
              "      display:flex;\n",
              "      gap: 12px;\n",
              "    }\n",
              "\n",
              "    .colab-df-convert {\n",
              "      background-color: #E8F0FE;\n",
              "      border: none;\n",
              "      border-radius: 50%;\n",
              "      cursor: pointer;\n",
              "      display: none;\n",
              "      fill: #1967D2;\n",
              "      height: 32px;\n",
              "      padding: 0 0 0 0;\n",
              "      width: 32px;\n",
              "    }\n",
              "\n",
              "    .colab-df-convert:hover {\n",
              "      background-color: #E2EBFA;\n",
              "      box-shadow: 0px 1px 2px rgba(60, 64, 67, 0.3), 0px 1px 3px 1px rgba(60, 64, 67, 0.15);\n",
              "      fill: #174EA6;\n",
              "    }\n",
              "\n",
              "    .colab-df-buttons div {\n",
              "      margin-bottom: 4px;\n",
              "    }\n",
              "\n",
              "    [theme=dark] .colab-df-convert {\n",
              "      background-color: #3B4455;\n",
              "      fill: #D2E3FC;\n",
              "    }\n",
              "\n",
              "    [theme=dark] .colab-df-convert:hover {\n",
              "      background-color: #434B5C;\n",
              "      box-shadow: 0px 1px 3px 1px rgba(0, 0, 0, 0.15);\n",
              "      filter: drop-shadow(0px 1px 2px rgba(0, 0, 0, 0.3));\n",
              "      fill: #FFFFFF;\n",
              "    }\n",
              "  </style>\n",
              "\n",
              "    <script>\n",
              "      const buttonEl =\n",
              "        document.querySelector('#df-c8e968ef-8c9f-4ec7-b39f-aa09908fa20d button.colab-df-convert');\n",
              "      buttonEl.style.display =\n",
              "        google.colab.kernel.accessAllowed ? 'block' : 'none';\n",
              "\n",
              "      async function convertToInteractive(key) {\n",
              "        const element = document.querySelector('#df-c8e968ef-8c9f-4ec7-b39f-aa09908fa20d');\n",
              "        const dataTable =\n",
              "          await google.colab.kernel.invokeFunction('convertToInteractive',\n",
              "                                                    [key], {});\n",
              "        if (!dataTable) return;\n",
              "\n",
              "        const docLinkHtml = 'Like what you see? Visit the ' +\n",
              "          '<a target=\"_blank\" href=https://colab.research.google.com/notebooks/data_table.ipynb>data table notebook</a>'\n",
              "          + ' to learn more about interactive tables.';\n",
              "        element.innerHTML = '';\n",
              "        dataTable['output_type'] = 'display_data';\n",
              "        await google.colab.output.renderOutput(dataTable, element);\n",
              "        const docLink = document.createElement('div');\n",
              "        docLink.innerHTML = docLinkHtml;\n",
              "        element.appendChild(docLink);\n",
              "      }\n",
              "    </script>\n",
              "  </div>\n",
              "\n",
              "\n",
              "<div id=\"df-675226ff-212c-429c-a68c-600081b40d60\">\n",
              "  <button class=\"colab-df-quickchart\" onclick=\"quickchart('df-675226ff-212c-429c-a68c-600081b40d60')\"\n",
              "            title=\"Suggest charts\"\n",
              "            style=\"display:none;\">\n",
              "\n",
              "<svg xmlns=\"http://www.w3.org/2000/svg\" height=\"24px\"viewBox=\"0 0 24 24\"\n",
              "     width=\"24px\">\n",
              "    <g>\n",
              "        <path d=\"M19 3H5c-1.1 0-2 .9-2 2v14c0 1.1.9 2 2 2h14c1.1 0 2-.9 2-2V5c0-1.1-.9-2-2-2zM9 17H7v-7h2v7zm4 0h-2V7h2v10zm4 0h-2v-4h2v4z\"/>\n",
              "    </g>\n",
              "</svg>\n",
              "  </button>\n",
              "\n",
              "<style>\n",
              "  .colab-df-quickchart {\n",
              "      --bg-color: #E8F0FE;\n",
              "      --fill-color: #1967D2;\n",
              "      --hover-bg-color: #E2EBFA;\n",
              "      --hover-fill-color: #174EA6;\n",
              "      --disabled-fill-color: #AAA;\n",
              "      --disabled-bg-color: #DDD;\n",
              "  }\n",
              "\n",
              "  [theme=dark] .colab-df-quickchart {\n",
              "      --bg-color: #3B4455;\n",
              "      --fill-color: #D2E3FC;\n",
              "      --hover-bg-color: #434B5C;\n",
              "      --hover-fill-color: #FFFFFF;\n",
              "      --disabled-bg-color: #3B4455;\n",
              "      --disabled-fill-color: #666;\n",
              "  }\n",
              "\n",
              "  .colab-df-quickchart {\n",
              "    background-color: var(--bg-color);\n",
              "    border: none;\n",
              "    border-radius: 50%;\n",
              "    cursor: pointer;\n",
              "    display: none;\n",
              "    fill: var(--fill-color);\n",
              "    height: 32px;\n",
              "    padding: 0;\n",
              "    width: 32px;\n",
              "  }\n",
              "\n",
              "  .colab-df-quickchart:hover {\n",
              "    background-color: var(--hover-bg-color);\n",
              "    box-shadow: 0 1px 2px rgba(60, 64, 67, 0.3), 0 1px 3px 1px rgba(60, 64, 67, 0.15);\n",
              "    fill: var(--button-hover-fill-color);\n",
              "  }\n",
              "\n",
              "  .colab-df-quickchart-complete:disabled,\n",
              "  .colab-df-quickchart-complete:disabled:hover {\n",
              "    background-color: var(--disabled-bg-color);\n",
              "    fill: var(--disabled-fill-color);\n",
              "    box-shadow: none;\n",
              "  }\n",
              "\n",
              "  .colab-df-spinner {\n",
              "    border: 2px solid var(--fill-color);\n",
              "    border-color: transparent;\n",
              "    border-bottom-color: var(--fill-color);\n",
              "    animation:\n",
              "      spin 1s steps(1) infinite;\n",
              "  }\n",
              "\n",
              "  @keyframes spin {\n",
              "    0% {\n",
              "      border-color: transparent;\n",
              "      border-bottom-color: var(--fill-color);\n",
              "      border-left-color: var(--fill-color);\n",
              "    }\n",
              "    20% {\n",
              "      border-color: transparent;\n",
              "      border-left-color: var(--fill-color);\n",
              "      border-top-color: var(--fill-color);\n",
              "    }\n",
              "    30% {\n",
              "      border-color: transparent;\n",
              "      border-left-color: var(--fill-color);\n",
              "      border-top-color: var(--fill-color);\n",
              "      border-right-color: var(--fill-color);\n",
              "    }\n",
              "    40% {\n",
              "      border-color: transparent;\n",
              "      border-right-color: var(--fill-color);\n",
              "      border-top-color: var(--fill-color);\n",
              "    }\n",
              "    60% {\n",
              "      border-color: transparent;\n",
              "      border-right-color: var(--fill-color);\n",
              "    }\n",
              "    80% {\n",
              "      border-color: transparent;\n",
              "      border-right-color: var(--fill-color);\n",
              "      border-bottom-color: var(--fill-color);\n",
              "    }\n",
              "    90% {\n",
              "      border-color: transparent;\n",
              "      border-bottom-color: var(--fill-color);\n",
              "    }\n",
              "  }\n",
              "</style>\n",
              "\n",
              "  <script>\n",
              "    async function quickchart(key) {\n",
              "      const quickchartButtonEl =\n",
              "        document.querySelector('#' + key + ' button');\n",
              "      quickchartButtonEl.disabled = true;  // To prevent multiple clicks.\n",
              "      quickchartButtonEl.classList.add('colab-df-spinner');\n",
              "      try {\n",
              "        const charts = await google.colab.kernel.invokeFunction(\n",
              "            'suggestCharts', [key], {});\n",
              "      } catch (error) {\n",
              "        console.error('Error during call to suggestCharts:', error);\n",
              "      }\n",
              "      quickchartButtonEl.classList.remove('colab-df-spinner');\n",
              "      quickchartButtonEl.classList.add('colab-df-quickchart-complete');\n",
              "    }\n",
              "    (() => {\n",
              "      let quickchartButtonEl =\n",
              "        document.querySelector('#df-675226ff-212c-429c-a68c-600081b40d60 button');\n",
              "      quickchartButtonEl.style.display =\n",
              "        google.colab.kernel.accessAllowed ? 'block' : 'none';\n",
              "    })();\n",
              "  </script>\n",
              "</div>\n",
              "\n",
              "    </div>\n",
              "  </div>\n"
            ],
            "application/vnd.google.colaboratory.intrinsic+json": {
              "type": "dataframe",
              "variable_name": "df"
            }
          },
          "metadata": {},
          "execution_count": 4
        }
      ],
      "source": [
        "df.head(5)"
      ]
    },
    {
      "cell_type": "markdown",
      "source": [
        "# Data Cleaning"
      ],
      "metadata": {
        "id": "WQ5rx3vsfM1o"
      }
    },
    {
      "cell_type": "code",
      "execution_count": 5,
      "metadata": {
        "colab": {
          "base_uri": "https://localhost:8080/"
        },
        "id": "DXWpnCscxETp",
        "outputId": "7c4e175e-5613-4755-a4e1-54a0d042d2ab"
      },
      "outputs": [
        {
          "output_type": "stream",
          "name": "stdout",
          "text": [
            "Current data shape is:  (2104493, 10)\n"
          ]
        }
      ],
      "source": [
        "# Removing null values and dropping duplicates\n",
        "df = df.dropna().drop_duplicates()\n",
        "\n",
        "# Checking if nulls are removed\n",
        "null_count = df.isnull().sum()\n",
        "\n",
        "print(\"Current data shape is: \", df.shape)"
      ]
    },
    {
      "cell_type": "markdown",
      "source": [
        "Taking a sample of our dataset for fast-computaion."
      ],
      "metadata": {
        "id": "SZ9ZbXUqf_E3"
      }
    },
    {
      "cell_type": "code",
      "source": [
        "df = df.copy().iloc[0:100000] # First 100K rows\n",
        "\n",
        "# Dropping unnecessary columns (updated to reflect the new structure)\n",
        "df = df.drop(['asin', 'parent_asin', 'user_id', 'timestamp', 'images','verified_purchase', 'helpful_vote', 'rating'], axis=1)\n",
        "\n",
        "# Displaying the DataFrame information\n",
        "df.info()"
      ],
      "metadata": {
        "colab": {
          "base_uri": "https://localhost:8080/"
        },
        "id": "Sa4_FW4jf5kt",
        "outputId": "7b010ab5-68a3-474d-da50-e196365de9af"
      },
      "execution_count": 6,
      "outputs": [
        {
          "output_type": "stream",
          "name": "stdout",
          "text": [
            "<class 'pandas.core.frame.DataFrame'>\n",
            "Index: 100000 entries, 0 to 100370\n",
            "Data columns (total 2 columns):\n",
            " #   Column  Non-Null Count   Dtype \n",
            "---  ------  --------------   ----- \n",
            " 0   title   100000 non-null  object\n",
            " 1   text    100000 non-null  object\n",
            "dtypes: object(2)\n",
            "memory usage: 2.3+ MB\n"
          ]
        }
      ]
    },
    {
      "cell_type": "markdown",
      "metadata": {
        "id": "FfQV7tYmwwAd"
      },
      "source": [
        "# Tokenization & Data Pre-processing"
      ]
    },
    {
      "cell_type": "code",
      "execution_count": 7,
      "metadata": {
        "colab": {
          "base_uri": "https://localhost:8080/"
        },
        "id": "szE6GZHUw2WM",
        "outputId": "4bf5344e-2d1c-4c6c-8c64-58074af2911b"
      },
      "outputs": [
        {
          "output_type": "stream",
          "name": "stderr",
          "text": [
            "[nltk_data] Downloading package punkt to /root/nltk_data...\n",
            "[nltk_data]   Package punkt is already up-to-date!\n",
            "[nltk_data] Downloading package punkt_tab to /root/nltk_data...\n",
            "[nltk_data]   Package punkt_tab is already up-to-date!\n",
            "[nltk_data] Downloading package stopwords to /root/nltk_data...\n",
            "[nltk_data]   Package stopwords is already up-to-date!\n",
            "[nltk_data] Downloading package wordnet to /root/nltk_data...\n",
            "[nltk_data]   Package wordnet is already up-to-date!\n"
          ]
        }
      ],
      "source": [
        "import pandas as pd\n",
        "import numpy as np\n",
        "import re\n",
        "import nltk\n",
        "from nltk.tokenize import word_tokenize\n",
        "from nltk.stem import PorterStemmer, WordNetLemmatizer\n",
        "from nltk.corpus import stopwords\n",
        "\n",
        "# Initialize stemmer and lemmatizer\n",
        "stemmer = PorterStemmer()\n",
        "lemmatizer = WordNetLemmatizer()\n",
        "\n",
        "# Download necessary NLTK data\n",
        "nltk.download('punkt')\n",
        "nltk.download('punkt_tab')\n",
        "nltk.download('stopwords')\n",
        "nltk.download('wordnet')\n",
        "\n",
        "import matplotlib.pyplot as plt\n",
        "from collections import Counter\n",
        "from wordcloud import WordCloud"
      ]
    },
    {
      "cell_type": "code",
      "execution_count": 8,
      "metadata": {
        "id": "bDdF25j_xwdA"
      },
      "outputs": [],
      "source": [
        "dff = df.copy()\n",
        "\n",
        "# Remove rows with missing values in the 'text' column\n",
        "dff = dff.dropna(subset=['text'])"
      ]
    },
    {
      "cell_type": "markdown",
      "source": [
        "Stop-word visualizating"
      ],
      "metadata": {
        "id": "AlWOdMFJhimB"
      }
    },
    {
      "cell_type": "code",
      "source": [
        "# Extract stopwords from the text column\n",
        "def extract_stopwords(text):\n",
        "    stop_words = set(stopwords.words('english'))\n",
        "    words = word_tokenize(text.lower())\n",
        "    return [word for word in words if word in stop_words]\n",
        "\n",
        "# Apply the function to extract stopwords\n",
        "dff['stopwords'] = dff['text'].apply(lambda x: extract_stopwords(str(x)) if isinstance(x, str) else [])\n",
        "\n",
        "# Flatten the list of stopwords\n",
        "all_stopwords = [word for sublist in dff['stopwords'] for word in sublist]\n",
        "\n",
        "# Visualize stopwords using a frequency plot\n",
        "stopword_counts = Counter(all_stopwords)\n",
        "most_common_stopwords = stopword_counts.most_common(50)  # Top 50 most common stopwords\n"
      ],
      "metadata": {
        "id": "7_jbRr99hd2m"
      },
      "execution_count": 9,
      "outputs": []
    },
    {
      "cell_type": "code",
      "source": [
        "# Word Cloud\n",
        "wordcloud = WordCloud(width=800, height=400, background_color='white').generate(' '.join(all_stopwords))\n",
        "plt.figure(figsize=(10, 6))\n",
        "plt.imshow(wordcloud, interpolation='bilinear')\n",
        "plt.axis('off')\n",
        "plt.title('Word Cloud of Stopwords')\n",
        "plt.show()"
      ],
      "metadata": {
        "colab": {
          "base_uri": "https://localhost:8080/",
          "height": 446
        },
        "id": "gqwCrjEbho8l",
        "outputId": "eef7cfac-e5c3-4190-a035-cbe448030c7c"
      },
      "execution_count": 10,
      "outputs": [
        {
          "output_type": "display_data",
          "data": {
            "text/plain": [
              "<Figure size 1000x600 with 1 Axes>"
            ],
            "image/png": "[encoded data removed]"
          },
          "metadata": {}
        }
      ]
    },
    {
      "cell_type": "code",
      "execution_count": 11,
      "metadata": {
        "id": "gwkd-C0YwqwK"
      },
      "outputs": [],
      "source": [
        "# Step 2: Clean the Text with Stemming, Lemmatization\n",
        "def clean_text(text, use_lemmatization=True, correct_spelling=True):\n",
        "    \"\"\"\n",
        "    Function to clean text:\n",
        "    - Converts to lowercase\n",
        "    - Removes special characters, digits, and extra spaces\n",
        "    - Tokenizes the text\n",
        "    - Applies stemming or lemmatization\n",
        "    \"\"\"\n",
        "    # Convert text to lowercase\n",
        "    text = text.lower()\n",
        "\n",
        "    # Remove special characters (excluding digits) and extra spaces\n",
        "    text = re.sub(r'[^a-z0-9\\s]', '', text)  # Keeps digits (0-9)\n",
        "    text = re.sub(r'\\s+', ' ', text).strip()  # Removes extra spaces\n",
        "\n",
        "    # Tokenize the text\n",
        "    tokens = word_tokenize(text)\n",
        "\n",
        "    # Optionally remove stopwords (common in text preprocessing)\n",
        "    stop_words = set(stopwords.words('english'))\n",
        "    tokens = [word for word in tokens if word not in stop_words]\n",
        "\n",
        "    # Apply stemming or lemmatization\n",
        "    if use_lemmatization:\n",
        "        tokens = [lemmatizer.lemmatize(word) for word in tokens]\n",
        "    else:\n",
        "        tokens = [stemmer.stem(word) for word in tokens]\n",
        "\n",
        "    return tokens\n",
        "\n"
      ]
    },
    {
      "cell_type": "code",
      "execution_count": 12,
      "metadata": {
        "colab": {
          "base_uri": "https://localhost:8080/",
          "height": 206
        },
        "id": "WLaYhzCrxFZc",
        "outputId": "946cef12-5333-41d3-cb5e-eec492a5f535"
      },
      "outputs": [
        {
          "output_type": "execute_result",
          "data": {
            "text/plain": [
              "                                                text  \\\n",
              "0              work great. use a new one every month   \n",
              "1                            Little on the thin side   \n",
              "2                   Quick delivery, fixed the issue!   \n",
              "3  I wasn't sure whether these were worth it or n...   \n",
              "4  Easy to install got the product expected to re...   \n",
              "\n",
              "                                        cleaned_text  \n",
              "0         [work, great, use, new, one, every, month]  \n",
              "1                               [little, thin, side]  \n",
              "2                    [quick, delivery, fixed, issue]  \n",
              "3  [wasnt, sure, whether, worth, given, cost, com...  \n",
              "4   [easy, install, got, product, expected, receive]  "
            ],
            "text/html": [
              "\n",
              "  <div id=\"df-6adb1c7f-d760-431e-913e-9b2e3b70b9fd\" class=\"colab-df-container\">\n",
              "    <div>\n",
              "<style scoped>\n",
              "    .dataframe tbody tr th:only-of-type {\n",
              "        vertical-align: middle;\n",
              "    }\n",
              "\n",
              "    .dataframe tbody tr th {\n",
              "        vertical-align: top;\n",
              "    }\n",
              "\n",
              "    .dataframe thead th {\n",
              "        text-align: right;\n",
              "    }\n",
              "</style>\n",
              "<table border=\"1\" class=\"dataframe\">\n",
              "  <thead>\n",
              "    <tr style=\"text-align: right;\">\n",
              "      <th></th>\n",
              "      <th>text</th>\n",
              "      <th>cleaned_text</th>\n",
              "    </tr>\n",
              "  </thead>\n",
              "  <tbody>\n",
              "    <tr>\n",
              "      <th>0</th>\n",
              "      <td>work great. use a new one every month</td>\n",
              "      <td>[work, great, use, new, one, every, month]</td>\n",
              "    </tr>\n",
              "    <tr>\n",
              "      <th>1</th>\n",
              "      <td>Little on the thin side</td>\n",
              "      <td>[little, thin, side]</td>\n",
              "    </tr>\n",
              "    <tr>\n",
              "      <th>2</th>\n",
              "      <td>Quick delivery, fixed the issue!</td>\n",
              "      <td>[quick, delivery, fixed, issue]</td>\n",
              "    </tr>\n",
              "    <tr>\n",
              "      <th>3</th>\n",
              "      <td>I wasn't sure whether these were worth it or n...</td>\n",
              "      <td>[wasnt, sure, whether, worth, given, cost, com...</td>\n",
              "    </tr>\n",
              "    <tr>\n",
              "      <th>4</th>\n",
              "      <td>Easy to install got the product expected to re...</td>\n",
              "      <td>[easy, install, got, product, expected, receive]</td>\n",
              "    </tr>\n",
              "  </tbody>\n",
              "</table>\n",
              "</div>\n",
              "    <div class=\"colab-df-buttons\">\n",
              "\n",
              "  <div class=\"colab-df-container\">\n",
              "    <button class=\"colab-df-convert\" onclick=\"convertToInteractive('df-6adb1c7f-d760-431e-913e-9b2e3b70b9fd')\"\n",
              "            title=\"Convert this dataframe to an interactive table.\"\n",
              "            style=\"display:none;\">\n",
              "\n",
              "  <svg xmlns=\"http://www.w3.org/2000/svg\" height=\"24px\" viewBox=\"0 -960 960 960\">\n",
              "    <path d=\"M120-120v-720h720v720H120Zm60-500h600v-160H180v160Zm220 220h160v-160H400v160Zm0 220h160v-160H400v160ZM180-400h160v-160H180v160Zm440 0h160v-160H620v160ZM180-180h160v-160H180v160Zm440 0h160v-160H620v160Z\"/>\n",
              "  </svg>\n",
              "    </button>\n",
              "\n",
              "  <style>\n",
              "    .colab-df-container {\n",
              "      display:flex;\n",
              "      gap: 12px;\n",
              "    }\n",
              "\n",
              "    .colab-df-convert {\n",
              "      background-color: #E8F0FE;\n",
              "      border: none;\n",
              "      border-radius: 50%;\n",
              "      cursor: pointer;\n",
              "      display: none;\n",
              "      fill: #1967D2;\n",
              "      height: 32px;\n",
              "      padding: 0 0 0 0;\n",
              "      width: 32px;\n",
              "    }\n",
              "\n",
              "    .colab-df-convert:hover {\n",
              "      background-color: #E2EBFA;\n",
              "      box-shadow: 0px 1px 2px rgba(60, 64, 67, 0.3), 0px 1px 3px 1px rgba(60, 64, 67, 0.15);\n",
              "      fill: #174EA6;\n",
              "    }\n",
              "\n",
              "    .colab-df-buttons div {\n",
              "      margin-bottom: 4px;\n",
              "    }\n",
              "\n",
              "    [theme=dark] .colab-df-convert {\n",
              "      background-color: #3B4455;\n",
              "      fill: #D2E3FC;\n",
              "    }\n",
              "\n",
              "    [theme=dark] .colab-df-convert:hover {\n",
              "      background-color: #434B5C;\n",
              "      box-shadow: 0px 1px 3px 1px rgba(0, 0, 0, 0.15);\n",
              "      filter: drop-shadow(0px 1px 2px rgba(0, 0, 0, 0.3));\n",
              "      fill: #FFFFFF;\n",
              "    }\n",
              "  </style>\n",
              "\n",
              "    <script>\n",
              "      const buttonEl =\n",
              "        document.querySelector('#df-6adb1c7f-d760-431e-913e-9b2e3b70b9fd button.colab-df-convert');\n",
              "      buttonEl.style.display =\n",
              "        google.colab.kernel.accessAllowed ? 'block' : 'none';\n",
              "\n",
              "      async function convertToInteractive(key) {\n",
              "        const element = document.querySelector('#df-6adb1c7f-d760-431e-913e-9b2e3b70b9fd');\n",
              "        const dataTable =\n",
              "          await google.colab.kernel.invokeFunction('convertToInteractive',\n",
              "                                                    [key], {});\n",
              "        if (!dataTable) return;\n",
              "\n",
              "        const docLinkHtml = 'Like what you see? Visit the ' +\n",
              "          '<a target=\"_blank\" href=https://colab.research.google.com/notebooks/data_table.ipynb>data table notebook</a>'\n",
              "          + ' to learn more about interactive tables.';\n",
              "        element.innerHTML = '';\n",
              "        dataTable['output_type'] = 'display_data';\n",
              "        await google.colab.output.renderOutput(dataTable, element);\n",
              "        const docLink = document.createElement('div');\n",
              "        docLink.innerHTML = docLinkHtml;\n",
              "        element.appendChild(docLink);\n",
              "      }\n",
              "    </script>\n",
              "  </div>\n",
              "\n",
              "\n",
              "<div id=\"df-4b1ce79d-bdb7-4954-8671-5f8d6ca02a61\">\n",
              "  <button class=\"colab-df-quickchart\" onclick=\"quickchart('df-4b1ce79d-bdb7-4954-8671-5f8d6ca02a61')\"\n",
              "            title=\"Suggest charts\"\n",
              "            style=\"display:none;\">\n",
              "\n",
              "<svg xmlns=\"http://www.w3.org/2000/svg\" height=\"24px\"viewBox=\"0 0 24 24\"\n",
              "     width=\"24px\">\n",
              "    <g>\n",
              "        <path d=\"M19 3H5c-1.1 0-2 .9-2 2v14c0 1.1.9 2 2 2h14c1.1 0 2-.9 2-2V5c0-1.1-.9-2-2-2zM9 17H7v-7h2v7zm4 0h-2V7h2v10zm4 0h-2v-4h2v4z\"/>\n",
              "    </g>\n",
              "</svg>\n",
              "  </button>\n",
              "\n",
              "<style>\n",
              "  .colab-df-quickchart {\n",
              "      --bg-color: #E8F0FE;\n",
              "      --fill-color: #1967D2;\n",
              "      --hover-bg-color: #E2EBFA;\n",
              "      --hover-fill-color: #174EA6;\n",
              "      --disabled-fill-color: #AAA;\n",
              "      --disabled-bg-color: #DDD;\n",
              "  }\n",
              "\n",
              "  [theme=dark] .colab-df-quickchart {\n",
              "      --bg-color: #3B4455;\n",
              "      --fill-color: #D2E3FC;\n",
              "      --hover-bg-color: #434B5C;\n",
              "      --hover-fill-color: #FFFFFF;\n",
              "      --disabled-bg-color: #3B4455;\n",
              "      --disabled-fill-color: #666;\n",
              "  }\n",
              "\n",
              "  .colab-df-quickchart {\n",
              "    background-color: var(--bg-color);\n",
              "    border: none;\n",
              "    border-radius: 50%;\n",
              "    cursor: pointer;\n",
              "    display: none;\n",
              "    fill: var(--fill-color);\n",
              "    height: 32px;\n",
              "    padding: 0;\n",
              "    width: 32px;\n",
              "  }\n",
              "\n",
              "  .colab-df-quickchart:hover {\n",
              "    background-color: var(--hover-bg-color);\n",
              "    box-shadow: 0 1px 2px rgba(60, 64, 67, 0.3), 0 1px 3px 1px rgba(60, 64, 67, 0.15);\n",
              "    fill: var(--button-hover-fill-color);\n",
              "  }\n",
              "\n",
              "  .colab-df-quickchart-complete:disabled,\n",
              "  .colab-df-quickchart-complete:disabled:hover {\n",
              "    background-color: var(--disabled-bg-color);\n",
              "    fill: var(--disabled-fill-color);\n",
              "    box-shadow: none;\n",
              "  }\n",
              "\n",
              "  .colab-df-spinner {\n",
              "    border: 2px solid var(--fill-color);\n",
              "    border-color: transparent;\n",
              "    border-bottom-color: var(--fill-color);\n",
              "    animation:\n",
              "      spin 1s steps(1) infinite;\n",
              "  }\n",
              "\n",
              "  @keyframes spin {\n",
              "    0% {\n",
              "      border-color: transparent;\n",
              "      border-bottom-color: var(--fill-color);\n",
              "      border-left-color: var(--fill-color);\n",
              "    }\n",
              "    20% {\n",
              "      border-color: transparent;\n",
              "      border-left-color: var(--fill-color);\n",
              "      border-top-color: var(--fill-color);\n",
              "    }\n",
              "    30% {\n",
              "      border-color: transparent;\n",
              "      border-left-color: var(--fill-color);\n",
              "      border-top-color: var(--fill-color);\n",
              "      border-right-color: var(--fill-color);\n",
              "    }\n",
              "    40% {\n",
              "      border-color: transparent;\n",
              "      border-right-color: var(--fill-color);\n",
              "      border-top-color: var(--fill-color);\n",
              "    }\n",
              "    60% {\n",
              "      border-color: transparent;\n",
              "      border-right-color: var(--fill-color);\n",
              "    }\n",
              "    80% {\n",
              "      border-color: transparent;\n",
              "      border-right-color: var(--fill-color);\n",
              "      border-bottom-color: var(--fill-color);\n",
              "    }\n",
              "    90% {\n",
              "      border-color: transparent;\n",
              "      border-bottom-color: var(--fill-color);\n",
              "    }\n",
              "  }\n",
              "</style>\n",
              "\n",
              "  <script>\n",
              "    async function quickchart(key) {\n",
              "      const quickchartButtonEl =\n",
              "        document.querySelector('#' + key + ' button');\n",
              "      quickchartButtonEl.disabled = true;  // To prevent multiple clicks.\n",
              "      quickchartButtonEl.classList.add('colab-df-spinner');\n",
              "      try {\n",
              "        const charts = await google.colab.kernel.invokeFunction(\n",
              "            'suggestCharts', [key], {});\n",
              "      } catch (error) {\n",
              "        console.error('Error during call to suggestCharts:', error);\n",
              "      }\n",
              "      quickchartButtonEl.classList.remove('colab-df-spinner');\n",
              "      quickchartButtonEl.classList.add('colab-df-quickchart-complete');\n",
              "    }\n",
              "    (() => {\n",
              "      let quickchartButtonEl =\n",
              "        document.querySelector('#df-4b1ce79d-bdb7-4954-8671-5f8d6ca02a61 button');\n",
              "      quickchartButtonEl.style.display =\n",
              "        google.colab.kernel.accessAllowed ? 'block' : 'none';\n",
              "    })();\n",
              "  </script>\n",
              "</div>\n",
              "\n",
              "    </div>\n",
              "  </div>\n"
            ],
            "application/vnd.google.colaboratory.intrinsic+json": {
              "type": "dataframe",
              "summary": "{\n  \"name\": \"dff[['text', 'cleaned_text']]\",\n  \"rows\": 5,\n  \"fields\": [\n    {\n      \"column\": \"text\",\n      \"properties\": {\n        \"dtype\": \"string\",\n        \"num_unique_values\": 5,\n        \"samples\": [\n          \"Little on the thin side\",\n          \"Easy to install got the product expected to receive\",\n          \"Quick delivery, fixed the issue!\"\n        ],\n        \"semantic_type\": \"\",\n        \"description\": \"\"\n      }\n    },\n    {\n      \"column\": \"cleaned_text\",\n      \"properties\": {\n        \"dtype\": \"object\",\n        \"semantic_type\": \"\",\n        \"description\": \"\"\n      }\n    }\n  ]\n}"
            }
          },
          "metadata": {},
          "execution_count": 12
        }
      ],
      "source": [
        "# Example: Apply the function to the 'text' column of the `dff` dataframe\n",
        "dff['cleaned_text'] = dff['text'].apply(lambda x: clean_text(str(x), use_lemmatization=True) if isinstance(x, str) else [])\n",
        "\n",
        "# Display the cleaned text column\n",
        "dff[['text', 'cleaned_text']].head(5)"
      ]
    },
    {
      "cell_type": "code",
      "source": [
        "dff.drop(['stopwords','title','text'], axis=1, inplace=True)\n",
        "\n",
        "dff.info()"
      ],
      "metadata": {
        "colab": {
          "base_uri": "https://localhost:8080/"
        },
        "id": "FTLj7hmncYG5",
        "outputId": "9da05732-ef63-486e-b65b-3e2273bf961a"
      },
      "execution_count": 13,
      "outputs": [
        {
          "output_type": "stream",
          "name": "stdout",
          "text": [
            "<class 'pandas.core.frame.DataFrame'>\n",
            "Index: 100000 entries, 0 to 100370\n",
            "Data columns (total 1 columns):\n",
            " #   Column        Non-Null Count   Dtype \n",
            "---  ------        --------------   ----- \n",
            " 0   cleaned_text  100000 non-null  object\n",
            "dtypes: object(1)\n",
            "memory usage: 1.5+ MB\n"
          ]
        }
      ]
    },
    {
      "cell_type": "code",
      "source": [
        "dff.head(10)"
      ],
      "metadata": {
        "colab": {
          "base_uri": "https://localhost:8080/",
          "height": 363
        },
        "id": "ueoFDLd0i2Yd",
        "outputId": "e504eada-35ee-48e2-e837-ed3935ff6010"
      },
      "execution_count": 14,
      "outputs": [
        {
          "output_type": "execute_result",
          "data": {
            "text/plain": [
              "                                        cleaned_text\n",
              "0         [work, great, use, new, one, every, month]\n",
              "1                               [little, thin, side]\n",
              "2                    [quick, delivery, fixed, issue]\n",
              "3  [wasnt, sure, whether, worth, given, cost, com...\n",
              "4   [easy, install, got, product, expected, receive]\n",
              "5  [buying, ice, machine, 15, month, ago, using, ...\n",
              "6                                    [best, quality]\n",
              "7      [part, came, quickly, fit, lg, dryer, thanks]\n",
              "8  [always, arrive, fast, manner, description, li...\n",
              "9  [company, responded, quickly, refunded, purcha..."
            ],
            "text/html": [
              "\n",
              "  <div id=\"df-9fb4928c-be15-4505-8337-68c532839673\" class=\"colab-df-container\">\n",
              "    <div>\n",
              "<style scoped>\n",
              "    .dataframe tbody tr th:only-of-type {\n",
              "        vertical-align: middle;\n",
              "    }\n",
              "\n",
              "    .dataframe tbody tr th {\n",
              "        vertical-align: top;\n",
              "    }\n",
              "\n",
              "    .dataframe thead th {\n",
              "        text-align: right;\n",
              "    }\n",
              "</style>\n",
              "<table border=\"1\" class=\"dataframe\">\n",
              "  <thead>\n",
              "    <tr style=\"text-align: right;\">\n",
              "      <th></th>\n",
              "      <th>cleaned_text</th>\n",
              "    </tr>\n",
              "  </thead>\n",
              "  <tbody>\n",
              "    <tr>\n",
              "      <th>0</th>\n",
              "      <td>[work, great, use, new, one, every, month]</td>\n",
              "    </tr>\n",
              "    <tr>\n",
              "      <th>1</th>\n",
              "      <td>[little, thin, side]</td>\n",
              "    </tr>\n",
              "    <tr>\n",
              "      <th>2</th>\n",
              "      <td>[quick, delivery, fixed, issue]</td>\n",
              "    </tr>\n",
              "    <tr>\n",
              "      <th>3</th>\n",
              "      <td>[wasnt, sure, whether, worth, given, cost, com...</td>\n",
              "    </tr>\n",
              "    <tr>\n",
              "      <th>4</th>\n",
              "      <td>[easy, install, got, product, expected, receive]</td>\n",
              "    </tr>\n",
              "    <tr>\n",
              "      <th>5</th>\n",
              "      <td>[buying, ice, machine, 15, month, ago, using, ...</td>\n",
              "    </tr>\n",
              "    <tr>\n",
              "      <th>6</th>\n",
              "      <td>[best, quality]</td>\n",
              "    </tr>\n",
              "    <tr>\n",
              "      <th>7</th>\n",
              "      <td>[part, came, quickly, fit, lg, dryer, thanks]</td>\n",
              "    </tr>\n",
              "    <tr>\n",
              "      <th>8</th>\n",
              "      <td>[always, arrive, fast, manner, description, li...</td>\n",
              "    </tr>\n",
              "    <tr>\n",
              "      <th>9</th>\n",
              "      <td>[company, responded, quickly, refunded, purcha...</td>\n",
              "    </tr>\n",
              "  </tbody>\n",
              "</table>\n",
              "</div>\n",
              "    <div class=\"colab-df-buttons\">\n",
              "\n",
              "  <div class=\"colab-df-container\">\n",
              "    <button class=\"colab-df-convert\" onclick=\"convertToInteractive('df-9fb4928c-be15-4505-8337-68c532839673')\"\n",
              "            title=\"Convert this dataframe to an interactive table.\"\n",
              "            style=\"display:none;\">\n",
              "\n",
              "  <svg xmlns=\"http://www.w3.org/2000/svg\" height=\"24px\" viewBox=\"0 -960 960 960\">\n",
              "    <path d=\"M120-120v-720h720v720H120Zm60-500h600v-160H180v160Zm220 220h160v-160H400v160Zm0 220h160v-160H400v160ZM180-400h160v-160H180v160Zm440 0h160v-160H620v160ZM180-180h160v-160H180v160Zm440 0h160v-160H620v160Z\"/>\n",
              "  </svg>\n",
              "    </button>\n",
              "\n",
              "  <style>\n",
              "    .colab-df-container {\n",
              "      display:flex;\n",
              "      gap: 12px;\n",
              "    }\n",
              "\n",
              "    .colab-df-convert {\n",
              "      background-color: #E8F0FE;\n",
              "      border: none;\n",
              "      border-radius: 50%;\n",
              "      cursor: pointer;\n",
              "      display: none;\n",
              "      fill: #1967D2;\n",
              "      height: 32px;\n",
              "      padding: 0 0 0 0;\n",
              "      width: 32px;\n",
              "    }\n",
              "\n",
              "    .colab-df-convert:hover {\n",
              "      background-color: #E2EBFA;\n",
              "      box-shadow: 0px 1px 2px rgba(60, 64, 67, 0.3), 0px 1px 3px 1px rgba(60, 64, 67, 0.15);\n",
              "      fill: #174EA6;\n",
              "    }\n",
              "\n",
              "    .colab-df-buttons div {\n",
              "      margin-bottom: 4px;\n",
              "    }\n",
              "\n",
              "    [theme=dark] .colab-df-convert {\n",
              "      background-color: #3B4455;\n",
              "      fill: #D2E3FC;\n",
              "    }\n",
              "\n",
              "    [theme=dark] .colab-df-convert:hover {\n",
              "      background-color: #434B5C;\n",
              "      box-shadow: 0px 1px 3px 1px rgba(0, 0, 0, 0.15);\n",
              "      filter: drop-shadow(0px 1px 2px rgba(0, 0, 0, 0.3));\n",
              "      fill: #FFFFFF;\n",
              "    }\n",
              "  </style>\n",
              "\n",
              "    <script>\n",
              "      const buttonEl =\n",
              "        document.querySelector('#df-9fb4928c-be15-4505-8337-68c532839673 button.colab-df-convert');\n",
              "      buttonEl.style.display =\n",
              "        google.colab.kernel.accessAllowed ? 'block' : 'none';\n",
              "\n",
              "      async function convertToInteractive(key) {\n",
              "        const element = document.querySelector('#df-9fb4928c-be15-4505-8337-68c532839673');\n",
              "        const dataTable =\n",
              "          await google.colab.kernel.invokeFunction('convertToInteractive',\n",
              "                                                    [key], {});\n",
              "        if (!dataTable) return;\n",
              "\n",
              "        const docLinkHtml = 'Like what you see? Visit the ' +\n",
              "          '<a target=\"_blank\" href=https://colab.research.google.com/notebooks/data_table.ipynb>data table notebook</a>'\n",
              "          + ' to learn more about interactive tables.';\n",
              "        element.innerHTML = '';\n",
              "        dataTable['output_type'] = 'display_data';\n",
              "        await google.colab.output.renderOutput(dataTable, element);\n",
              "        const docLink = document.createElement('div');\n",
              "        docLink.innerHTML = docLinkHtml;\n",
              "        element.appendChild(docLink);\n",
              "      }\n",
              "    </script>\n",
              "  </div>\n",
              "\n",
              "\n",
              "<div id=\"df-4e05ffcc-36bc-4816-b58b-fe81929f1c01\">\n",
              "  <button class=\"colab-df-quickchart\" onclick=\"quickchart('df-4e05ffcc-36bc-4816-b58b-fe81929f1c01')\"\n",
              "            title=\"Suggest charts\"\n",
              "            style=\"display:none;\">\n",
              "\n",
              "<svg xmlns=\"http://www.w3.org/2000/svg\" height=\"24px\"viewBox=\"0 0 24 24\"\n",
              "     width=\"24px\">\n",
              "    <g>\n",
              "        <path d=\"M19 3H5c-1.1 0-2 .9-2 2v14c0 1.1.9 2 2 2h14c1.1 0 2-.9 2-2V5c0-1.1-.9-2-2-2zM9 17H7v-7h2v7zm4 0h-2V7h2v10zm4 0h-2v-4h2v4z\"/>\n",
              "    </g>\n",
              "</svg>\n",
              "  </button>\n",
              "\n",
              "<style>\n",
              "  .colab-df-quickchart {\n",
              "      --bg-color: #E8F0FE;\n",
              "      --fill-color: #1967D2;\n",
              "      --hover-bg-color: #E2EBFA;\n",
              "      --hover-fill-color: #174EA6;\n",
              "      --disabled-fill-color: #AAA;\n",
              "      --disabled-bg-color: #DDD;\n",
              "  }\n",
              "\n",
              "  [theme=dark] .colab-df-quickchart {\n",
              "      --bg-color: #3B4455;\n",
              "      --fill-color: #D2E3FC;\n",
              "      --hover-bg-color: #434B5C;\n",
              "      --hover-fill-color: #FFFFFF;\n",
              "      --disabled-bg-color: #3B4455;\n",
              "      --disabled-fill-color: #666;\n",
              "  }\n",
              "\n",
              "  .colab-df-quickchart {\n",
              "    background-color: var(--bg-color);\n",
              "    border: none;\n",
              "    border-radius: 50%;\n",
              "    cursor: pointer;\n",
              "    display: none;\n",
              "    fill: var(--fill-color);\n",
              "    height: 32px;\n",
              "    padding: 0;\n",
              "    width: 32px;\n",
              "  }\n",
              "\n",
              "  .colab-df-quickchart:hover {\n",
              "    background-color: var(--hover-bg-color);\n",
              "    box-shadow: 0 1px 2px rgba(60, 64, 67, 0.3), 0 1px 3px 1px rgba(60, 64, 67, 0.15);\n",
              "    fill: var(--button-hover-fill-color);\n",
              "  }\n",
              "\n",
              "  .colab-df-quickchart-complete:disabled,\n",
              "  .colab-df-quickchart-complete:disabled:hover {\n",
              "    background-color: var(--disabled-bg-color);\n",
              "    fill: var(--disabled-fill-color);\n",
              "    box-shadow: none;\n",
              "  }\n",
              "\n",
              "  .colab-df-spinner {\n",
              "    border: 2px solid var(--fill-color);\n",
              "    border-color: transparent;\n",
              "    border-bottom-color: var(--fill-color);\n",
              "    animation:\n",
              "      spin 1s steps(1) infinite;\n",
              "  }\n",
              "\n",
              "  @keyframes spin {\n",
              "    0% {\n",
              "      border-color: transparent;\n",
              "      border-bottom-color: var(--fill-color);\n",
              "      border-left-color: var(--fill-color);\n",
              "    }\n",
              "    20% {\n",
              "      border-color: transparent;\n",
              "      border-left-color: var(--fill-color);\n",
              "      border-top-color: var(--fill-color);\n",
              "    }\n",
              "    30% {\n",
              "      border-color: transparent;\n",
              "      border-left-color: var(--fill-color);\n",
              "      border-top-color: var(--fill-color);\n",
              "      border-right-color: var(--fill-color);\n",
              "    }\n",
              "    40% {\n",
              "      border-color: transparent;\n",
              "      border-right-color: var(--fill-color);\n",
              "      border-top-color: var(--fill-color);\n",
              "    }\n",
              "    60% {\n",
              "      border-color: transparent;\n",
              "      border-right-color: var(--fill-color);\n",
              "    }\n",
              "    80% {\n",
              "      border-color: transparent;\n",
              "      border-right-color: var(--fill-color);\n",
              "      border-bottom-color: var(--fill-color);\n",
              "    }\n",
              "    90% {\n",
              "      border-color: transparent;\n",
              "      border-bottom-color: var(--fill-color);\n",
              "    }\n",
              "  }\n",
              "</style>\n",
              "\n",
              "  <script>\n",
              "    async function quickchart(key) {\n",
              "      const quickchartButtonEl =\n",
              "        document.querySelector('#' + key + ' button');\n",
              "      quickchartButtonEl.disabled = true;  // To prevent multiple clicks.\n",
              "      quickchartButtonEl.classList.add('colab-df-spinner');\n",
              "      try {\n",
              "        const charts = await google.colab.kernel.invokeFunction(\n",
              "            'suggestCharts', [key], {});\n",
              "      } catch (error) {\n",
              "        console.error('Error during call to suggestCharts:', error);\n",
              "      }\n",
              "      quickchartButtonEl.classList.remove('colab-df-spinner');\n",
              "      quickchartButtonEl.classList.add('colab-df-quickchart-complete');\n",
              "    }\n",
              "    (() => {\n",
              "      let quickchartButtonEl =\n",
              "        document.querySelector('#df-4e05ffcc-36bc-4816-b58b-fe81929f1c01 button');\n",
              "      quickchartButtonEl.style.display =\n",
              "        google.colab.kernel.accessAllowed ? 'block' : 'none';\n",
              "    })();\n",
              "  </script>\n",
              "</div>\n",
              "\n",
              "    </div>\n",
              "  </div>\n"
            ],
            "application/vnd.google.colaboratory.intrinsic+json": {
              "type": "dataframe",
              "variable_name": "dff",
              "summary": "{\n  \"name\": \"dff\",\n  \"rows\": 100000,\n  \"fields\": [\n    {\n      \"column\": \"cleaned_text\",\n      \"properties\": {\n        \"dtype\": \"object\",\n        \"semantic_type\": \"\",\n        \"description\": \"\"\n      }\n    }\n  ]\n}"
            }
          },
          "metadata": {},
          "execution_count": 14
        }
      ]
    },
    {
      "cell_type": "code",
      "source": [
        "# Calculate the length of each list in the 'cleaned_text' column\n",
        "dff['text_length'] = dff['cleaned_text'].apply(len)\n",
        "\n",
        "# Get the maximum and minimum lengths\n",
        "max_length = dff['text_length'].max()\n",
        "min_length = dff['text_length'].min()\n",
        "\n",
        "print(\"Maximum length:\", max_length)\n",
        "print(\"Minimum length:\", min_length)\n",
        "\n",
        "# Remove rows with more than 100 words\n",
        "df_filtered = dff[dff['text_length'] <= 100]\n",
        "\n",
        "# Check the shape of the filtered DataFrame\n",
        "print(\"Shape of filtered DataFrame:\", df_filtered.shape)"
      ],
      "metadata": {
        "colab": {
          "base_uri": "https://localhost:8080/"
        },
        "id": "6lxiUTINi5lG",
        "outputId": "78708684-671f-436a-8545-87e6c14b2733"
      },
      "execution_count": 15,
      "outputs": [
        {
          "output_type": "stream",
          "name": "stdout",
          "text": [
            "Maximum length: 1483\n",
            "Minimum length: 0\n",
            "Shape of filtered DataFrame: (97698, 2)\n"
          ]
        }
      ]
    },
    {
      "cell_type": "code",
      "source": [
        "df_filtered.drop('text_length', axis=1, inplace=True)"
      ],
      "metadata": {
        "colab": {
          "base_uri": "https://localhost:8080/"
        },
        "id": "IDX42iaKkKUb",
        "outputId": "e97c68ab-fd6d-4276-f4de-c0eef3201556"
      },
      "execution_count": 16,
      "outputs": [
        {
          "output_type": "stream",
          "name": "stderr",
          "text": [
            "<ipython-input-16-305764e680d1>:1: SettingWithCopyWarning: \n",
            "A value is trying to be set on a copy of a slice from a DataFrame\n",
            "\n",
            "See the caveats in the documentation: https://pandas.pydata.org/pandas-docs/stable/user_guide/indexing.html#returning-a-view-versus-a-copy\n",
            "  df_filtered.drop('text_length', axis=1, inplace=True)\n"
          ]
        }
      ]
    },
    {
      "cell_type": "code",
      "source": [
        "df_filtered.head(5)"
      ],
      "metadata": {
        "colab": {
          "base_uri": "https://localhost:8080/",
          "height": 206
        },
        "id": "M9wXdIVukWEy",
        "outputId": "6bff9517-4a48-4959-da39-6d6688acf26e"
      },
      "execution_count": 17,
      "outputs": [
        {
          "output_type": "execute_result",
          "data": {
            "text/plain": [
              "                                        cleaned_text\n",
              "0         [work, great, use, new, one, every, month]\n",
              "1                               [little, thin, side]\n",
              "2                    [quick, delivery, fixed, issue]\n",
              "3  [wasnt, sure, whether, worth, given, cost, com...\n",
              "4   [easy, install, got, product, expected, receive]"
            ],
            "text/html": [
              "\n",
              "  <div id=\"df-49b151c3-fb6e-46b3-93b7-831f07ede32b\" class=\"colab-df-container\">\n",
              "    <div>\n",
              "<style scoped>\n",
              "    .dataframe tbody tr th:only-of-type {\n",
              "        vertical-align: middle;\n",
              "    }\n",
              "\n",
              "    .dataframe tbody tr th {\n",
              "        vertical-align: top;\n",
              "    }\n",
              "\n",
              "    .dataframe thead th {\n",
              "        text-align: right;\n",
              "    }\n",
              "</style>\n",
              "<table border=\"1\" class=\"dataframe\">\n",
              "  <thead>\n",
              "    <tr style=\"text-align: right;\">\n",
              "      <th></th>\n",
              "      <th>cleaned_text</th>\n",
              "    </tr>\n",
              "  </thead>\n",
              "  <tbody>\n",
              "    <tr>\n",
              "      <th>0</th>\n",
              "      <td>[work, great, use, new, one, every, month]</td>\n",
              "    </tr>\n",
              "    <tr>\n",
              "      <th>1</th>\n",
              "      <td>[little, thin, side]</td>\n",
              "    </tr>\n",
              "    <tr>\n",
              "      <th>2</th>\n",
              "      <td>[quick, delivery, fixed, issue]</td>\n",
              "    </tr>\n",
              "    <tr>\n",
              "      <th>3</th>\n",
              "      <td>[wasnt, sure, whether, worth, given, cost, com...</td>\n",
              "    </tr>\n",
              "    <tr>\n",
              "      <th>4</th>\n",
              "      <td>[easy, install, got, product, expected, receive]</td>\n",
              "    </tr>\n",
              "  </tbody>\n",
              "</table>\n",
              "</div>\n",
              "    <div class=\"colab-df-buttons\">\n",
              "\n",
              "  <div class=\"colab-df-container\">\n",
              "    <button class=\"colab-df-convert\" onclick=\"convertToInteractive('df-49b151c3-fb6e-46b3-93b7-831f07ede32b')\"\n",
              "            title=\"Convert this dataframe to an interactive table.\"\n",
              "            style=\"display:none;\">\n",
              "\n",
              "  <svg xmlns=\"http://www.w3.org/2000/svg\" height=\"24px\" viewBox=\"0 -960 960 960\">\n",
              "    <path d=\"M120-120v-720h720v720H120Zm60-500h600v-160H180v160Zm220 220h160v-160H400v160Zm0 220h160v-160H400v160ZM180-400h160v-160H180v160Zm440 0h160v-160H620v160ZM180-180h160v-160H180v160Zm440 0h160v-160H620v160Z\"/>\n",
              "  </svg>\n",
              "    </button>\n",
              "\n",
              "  <style>\n",
              "    .colab-df-container {\n",
              "      display:flex;\n",
              "      gap: 12px;\n",
              "    }\n",
              "\n",
              "    .colab-df-convert {\n",
              "      background-color: #E8F0FE;\n",
              "      border: none;\n",
              "      border-radius: 50%;\n",
              "      cursor: pointer;\n",
              "      display: none;\n",
              "      fill: #1967D2;\n",
              "      height: 32px;\n",
              "      padding: 0 0 0 0;\n",
              "      width: 32px;\n",
              "    }\n",
              "\n",
              "    .colab-df-convert:hover {\n",
              "      background-color: #E2EBFA;\n",
              "      box-shadow: 0px 1px 2px rgba(60, 64, 67, 0.3), 0px 1px 3px 1px rgba(60, 64, 67, 0.15);\n",
              "      fill: #174EA6;\n",
              "    }\n",
              "\n",
              "    .colab-df-buttons div {\n",
              "      margin-bottom: 4px;\n",
              "    }\n",
              "\n",
              "    [theme=dark] .colab-df-convert {\n",
              "      background-color: #3B4455;\n",
              "      fill: #D2E3FC;\n",
              "    }\n",
              "\n",
              "    [theme=dark] .colab-df-convert:hover {\n",
              "      background-color: #434B5C;\n",
              "      box-shadow: 0px 1px 3px 1px rgba(0, 0, 0, 0.15);\n",
              "      filter: drop-shadow(0px 1px 2px rgba(0, 0, 0, 0.3));\n",
              "      fill: #FFFFFF;\n",
              "    }\n",
              "  </style>\n",
              "\n",
              "    <script>\n",
              "      const buttonEl =\n",
              "        document.querySelector('#df-49b151c3-fb6e-46b3-93b7-831f07ede32b button.colab-df-convert');\n",
              "      buttonEl.style.display =\n",
              "        google.colab.kernel.accessAllowed ? 'block' : 'none';\n",
              "\n",
              "      async function convertToInteractive(key) {\n",
              "        const element = document.querySelector('#df-49b151c3-fb6e-46b3-93b7-831f07ede32b');\n",
              "        const dataTable =\n",
              "          await google.colab.kernel.invokeFunction('convertToInteractive',\n",
              "                                                    [key], {});\n",
              "        if (!dataTable) return;\n",
              "\n",
              "        const docLinkHtml = 'Like what you see? Visit the ' +\n",
              "          '<a target=\"_blank\" href=https://colab.research.google.com/notebooks/data_table.ipynb>data table notebook</a>'\n",
              "          + ' to learn more about interactive tables.';\n",
              "        element.innerHTML = '';\n",
              "        dataTable['output_type'] = 'display_data';\n",
              "        await google.colab.output.renderOutput(dataTable, element);\n",
              "        const docLink = document.createElement('div');\n",
              "        docLink.innerHTML = docLinkHtml;\n",
              "        element.appendChild(docLink);\n",
              "      }\n",
              "    </script>\n",
              "  </div>\n",
              "\n",
              "\n",
              "<div id=\"df-8eb94db8-a274-4ff5-9b68-712b3c5a1adc\">\n",
              "  <button class=\"colab-df-quickchart\" onclick=\"quickchart('df-8eb94db8-a274-4ff5-9b68-712b3c5a1adc')\"\n",
              "            title=\"Suggest charts\"\n",
              "            style=\"display:none;\">\n",
              "\n",
              "<svg xmlns=\"http://www.w3.org/2000/svg\" height=\"24px\"viewBox=\"0 0 24 24\"\n",
              "     width=\"24px\">\n",
              "    <g>\n",
              "        <path d=\"M19 3H5c-1.1 0-2 .9-2 2v14c0 1.1.9 2 2 2h14c1.1 0 2-.9 2-2V5c0-1.1-.9-2-2-2zM9 17H7v-7h2v7zm4 0h-2V7h2v10zm4 0h-2v-4h2v4z\"/>\n",
              "    </g>\n",
              "</svg>\n",
              "  </button>\n",
              "\n",
              "<style>\n",
              "  .colab-df-quickchart {\n",
              "      --bg-color: #E8F0FE;\n",
              "      --fill-color: #1967D2;\n",
              "      --hover-bg-color: #E2EBFA;\n",
              "      --hover-fill-color: #174EA6;\n",
              "      --disabled-fill-color: #AAA;\n",
              "      --disabled-bg-color: #DDD;\n",
              "  }\n",
              "\n",
              "  [theme=dark] .colab-df-quickchart {\n",
              "      --bg-color: #3B4455;\n",
              "      --fill-color: #D2E3FC;\n",
              "      --hover-bg-color: #434B5C;\n",
              "      --hover-fill-color: #FFFFFF;\n",
              "      --disabled-bg-color: #3B4455;\n",
              "      --disabled-fill-color: #666;\n",
              "  }\n",
              "\n",
              "  .colab-df-quickchart {\n",
              "    background-color: var(--bg-color);\n",
              "    border: none;\n",
              "    border-radius: 50%;\n",
              "    cursor: pointer;\n",
              "    display: none;\n",
              "    fill: var(--fill-color);\n",
              "    height: 32px;\n",
              "    padding: 0;\n",
              "    width: 32px;\n",
              "  }\n",
              "\n",
              "  .colab-df-quickchart:hover {\n",
              "    background-color: var(--hover-bg-color);\n",
              "    box-shadow: 0 1px 2px rgba(60, 64, 67, 0.3), 0 1px 3px 1px rgba(60, 64, 67, 0.15);\n",
              "    fill: var(--button-hover-fill-color);\n",
              "  }\n",
              "\n",
              "  .colab-df-quickchart-complete:disabled,\n",
              "  .colab-df-quickchart-complete:disabled:hover {\n",
              "    background-color: var(--disabled-bg-color);\n",
              "    fill: var(--disabled-fill-color);\n",
              "    box-shadow: none;\n",
              "  }\n",
              "\n",
              "  .colab-df-spinner {\n",
              "    border: 2px solid var(--fill-color);\n",
              "    border-color: transparent;\n",
              "    border-bottom-color: var(--fill-color);\n",
              "    animation:\n",
              "      spin 1s steps(1) infinite;\n",
              "  }\n",
              "\n",
              "  @keyframes spin {\n",
              "    0% {\n",
              "      border-color: transparent;\n",
              "      border-bottom-color: var(--fill-color);\n",
              "      border-left-color: var(--fill-color);\n",
              "    }\n",
              "    20% {\n",
              "      border-color: transparent;\n",
              "      border-left-color: var(--fill-color);\n",
              "      border-top-color: var(--fill-color);\n",
              "    }\n",
              "    30% {\n",
              "      border-color: transparent;\n",
              "      border-left-color: var(--fill-color);\n",
              "      border-top-color: var(--fill-color);\n",
              "      border-right-color: var(--fill-color);\n",
              "    }\n",
              "    40% {\n",
              "      border-color: transparent;\n",
              "      border-right-color: var(--fill-color);\n",
              "      border-top-color: var(--fill-color);\n",
              "    }\n",
              "    60% {\n",
              "      border-color: transparent;\n",
              "      border-right-color: var(--fill-color);\n",
              "    }\n",
              "    80% {\n",
              "      border-color: transparent;\n",
              "      border-right-color: var(--fill-color);\n",
              "      border-bottom-color: var(--fill-color);\n",
              "    }\n",
              "    90% {\n",
              "      border-color: transparent;\n",
              "      border-bottom-color: var(--fill-color);\n",
              "    }\n",
              "  }\n",
              "</style>\n",
              "\n",
              "  <script>\n",
              "    async function quickchart(key) {\n",
              "      const quickchartButtonEl =\n",
              "        document.querySelector('#' + key + ' button');\n",
              "      quickchartButtonEl.disabled = true;  // To prevent multiple clicks.\n",
              "      quickchartButtonEl.classList.add('colab-df-spinner');\n",
              "      try {\n",
              "        const charts = await google.colab.kernel.invokeFunction(\n",
              "            'suggestCharts', [key], {});\n",
              "      } catch (error) {\n",
              "        console.error('Error during call to suggestCharts:', error);\n",
              "      }\n",
              "      quickchartButtonEl.classList.remove('colab-df-spinner');\n",
              "      quickchartButtonEl.classList.add('colab-df-quickchart-complete');\n",
              "    }\n",
              "    (() => {\n",
              "      let quickchartButtonEl =\n",
              "        document.querySelector('#df-8eb94db8-a274-4ff5-9b68-712b3c5a1adc button');\n",
              "      quickchartButtonEl.style.display =\n",
              "        google.colab.kernel.accessAllowed ? 'block' : 'none';\n",
              "    })();\n",
              "  </script>\n",
              "</div>\n",
              "\n",
              "    </div>\n",
              "  </div>\n"
            ],
            "application/vnd.google.colaboratory.intrinsic+json": {
              "type": "dataframe",
              "variable_name": "df_filtered",
              "summary": "{\n  \"name\": \"df_filtered\",\n  \"rows\": 97698,\n  \"fields\": [\n    {\n      \"column\": \"cleaned_text\",\n      \"properties\": {\n        \"dtype\": \"object\",\n        \"semantic_type\": \"\",\n        \"description\": \"\"\n      }\n    }\n  ]\n}"
            }
          },
          "metadata": {},
          "execution_count": 17
        }
      ]
    },
    {
      "cell_type": "code",
      "source": [
        "# Calculate sequence lengths\n",
        "sequence_lengths = [len(text) for text in df_filtered['cleaned_text']]\n",
        "\n",
        "# Plot histogram of sequence lengths\n",
        "import matplotlib.pyplot as plt\n",
        "import numpy as np\n",
        "\n",
        "plt.figure(figsize=(10, 6))\n",
        "plt.hist(sequence_lengths, bins=np.arange(0, max(sequence_lengths) + 5, 5), edgecolor='k', alpha=0.7)\n",
        "plt.axvline(x=100, color='r', linestyle='--', label='Max Length (100)')\n",
        "plt.title('Distribution of Sequence Lengths Before Padding', fontsize=14)\n",
        "plt.xlabel('Sequence Length', fontsize=12)\n",
        "plt.ylabel('Frequency', fontsize=12)\n",
        "plt.legend()\n",
        "plt.grid(axis='y', linestyle='--', alpha=0.7)\n",
        "plt.show()"
      ],
      "metadata": {
        "colab": {
          "base_uri": "https://localhost:8080/",
          "height": 569
        },
        "id": "4tT7_PvRZUVD",
        "outputId": "e86d432e-47ff-4ced-bd2b-8e49ef6f3352"
      },
      "execution_count": 18,
      "outputs": [
        {
          "output_type": "display_data",
          "data": {
            "text/plain": [
              "<Figure size 1000x600 with 1 Axes>"
            ],
            "image/png": "[encoded data removed]"
          },
          "metadata": {}
        }
      ]
    },
    {
      "cell_type": "markdown",
      "metadata": {
        "id": "VLeZlDKB_-Lt"
      },
      "source": [
        "# Annotate Dataset with RegEx"
      ]
    },
    {
      "cell_type": "code",
      "source": [
        "dff = df_filtered.copy()"
      ],
      "metadata": {
        "id": "OoOaSk15kf90"
      },
      "execution_count": 19,
      "outputs": []
    },
    {
      "cell_type": "code",
      "execution_count": 20,
      "metadata": {
        "id": "jBWDjwJZAS0-"
      },
      "outputs": [],
      "source": [
        "# Define categories and their expanded patterns\n",
        "regex_patterns = {\n",
        "    \"Usability\": r\"(easy|install|setup|use|interface|clean|replace|fit|work|adjust|fast|convenient|comfortable|functional|practical|assembly|instructions|filter|work|one|great|coffee|water|fit|use|easy|br|like|good|ice|well|get|time|make|would|product|machine)\",\n",
        "    \"Price\": r\"(price|cost|expensive|cheap|worth|value|deal|budget|affordable|savings|premium|low-cost|reasonable|price|part|perfect|cup|dont|much|clean|dryer|little|install|love|new|really|need|perfectly|year|buy|replacement|used|im)\",\n",
        "    \"Quality\": r\"(quality|durable|material|build|standard|sturdy|broken|thin|great|strong|lasting|fragile|cheaply-made|superior|perfect|poor|premium|using|bought|better|old|also|small|keep|washer|made|maker|thing|put|back|fridge|even|look|problem|refrigerator|top|two)\",\n",
        "    \"Customer Service\": r\"(support|service|customer|help|response|refund|replace|company|problem|satisfaction|complaint|resolved|recommend|returns|way|worked|fine|first|original|still|stove|right|2|got|month|nice|quality|ground|needed|taste|didnt|come|go|day)\",\n",
        "    \"Delivery\": r\"(delivery|shipping|arrive|fast|late|packaging|received|quick|prime|delay|tracking|on-time|packed|order|dispatch|take|size|ive|dishwasher|replace|sure|item|recommend|could|doesnt|plastic|last|lot|brand|long|money|came|unit|door|issue)\"\n",
        "}"
      ]
    },
    {
      "cell_type": "code",
      "execution_count": 21,
      "metadata": {
        "colab": {
          "base_uri": "https://localhost:8080/"
        },
        "id": "u-h_O074_gdG",
        "outputId": "4b6acb1e-d598-426b-c5d6-e943c5089415"
      },
      "outputs": [
        {
          "output_type": "execute_result",
          "data": {
            "text/plain": [
              "(97698, 1)"
            ]
          },
          "metadata": {},
          "execution_count": 21
        }
      ],
      "source": [
        "dff.shape"
      ]
    },
    {
      "cell_type": "markdown",
      "metadata": {
        "id": "2ic5mdzwk6lc"
      },
      "source": [
        "Using the cleaned_text column to assign categories based on predefined regex patterns."
      ]
    },
    {
      "cell_type": "code",
      "execution_count": 22,
      "metadata": {
        "id": "ouICrD6oEszD"
      },
      "outputs": [],
      "source": [
        "# Function to tag categories\n",
        "def tag_categories(text, patterns):\n",
        "    tags = []\n",
        "    for category, pattern in patterns.items():\n",
        "        if any(re.search(pattern, word, re.IGNORECASE) for word in text):\n",
        "            tags.append(category)\n",
        "    return tags\n",
        "\n",
        "# Apply tagging function\n",
        "dff['categories'] = dff['cleaned_text'].apply(lambda x: tag_categories(x, regex_patterns))\n"
      ]
    },
    {
      "cell_type": "code",
      "execution_count": 23,
      "metadata": {
        "colab": {
          "base_uri": "https://localhost:8080/"
        },
        "id": "p5ExrbwgE38F",
        "outputId": "83d5b28a-3830-4897-e6c4-d848ac84646c"
      },
      "outputs": [
        {
          "output_type": "stream",
          "name": "stdout",
          "text": [
            "                                        cleaned_text  \\\n",
            "0         [work, great, use, new, one, every, month]   \n",
            "1                               [little, thin, side]   \n",
            "2                    [quick, delivery, fixed, issue]   \n",
            "3  [wasnt, sure, whether, worth, given, cost, com...   \n",
            "4   [easy, install, got, product, expected, receive]   \n",
            "5  [buying, ice, machine, 15, month, ago, using, ...   \n",
            "6                                    [best, quality]   \n",
            "7      [part, came, quickly, fit, lg, dryer, thanks]   \n",
            "8  [always, arrive, fast, manner, description, li...   \n",
            "9  [company, responded, quickly, refunded, purcha...   \n",
            "\n",
            "                                          categories  \n",
            "0      [Usability, Price, Quality, Customer Service]  \n",
            "1                                   [Price, Quality]  \n",
            "2                                         [Delivery]  \n",
            "3  [Usability, Price, Quality, Customer Service, ...  \n",
            "4     [Usability, Price, Customer Service, Delivery]  \n",
            "5  [Usability, Price, Quality, Customer Service, ...  \n",
            "6                        [Quality, Customer Service]  \n",
            "7                       [Usability, Price, Delivery]  \n",
            "8            [Usability, Customer Service, Delivery]  \n",
            "9  [Usability, Price, Quality, Customer Service, ...  \n"
          ]
        }
      ],
      "source": [
        "print(dff[['cleaned_text', 'categories']].head(10))"
      ]
    },
    {
      "cell_type": "code",
      "execution_count": 24,
      "metadata": {
        "id": "8ed5B69bHJlu"
      },
      "outputs": [],
      "source": [
        "dff = dff[dff['categories'].apply(len) > 0]"
      ]
    },
    {
      "cell_type": "code",
      "execution_count": 25,
      "metadata": {
        "colab": {
          "base_uri": "https://localhost:8080/"
        },
        "id": "WRCpRjsHGLgS",
        "outputId": "c6eed923-c1ef-4f65-937c-7b3735c24ecc"
      },
      "outputs": [
        {
          "output_type": "execute_result",
          "data": {
            "text/plain": [
              "0"
            ]
          },
          "metadata": {},
          "execution_count": 25
        }
      ],
      "source": [
        "# Checking the count of empty lists\n",
        "empty_count = dff['categories'].apply(len).eq(0).sum()\n",
        "empty_count"
      ]
    },
    {
      "cell_type": "code",
      "execution_count": 26,
      "metadata": {
        "colab": {
          "base_uri": "https://localhost:8080/"
        },
        "id": "tjDNkNJPHauZ",
        "outputId": "418346a4-1192-44b7-adfc-bf6a54fb1f16"
      },
      "outputs": [
        {
          "output_type": "stream",
          "name": "stdout",
          "text": [
            "<class 'pandas.core.frame.DataFrame'>\n",
            "Index: 94610 entries, 0 to 100370\n",
            "Data columns (total 2 columns):\n",
            " #   Column        Non-Null Count  Dtype \n",
            "---  ------        --------------  ----- \n",
            " 0   cleaned_text  94610 non-null  object\n",
            " 1   categories    94610 non-null  object\n",
            "dtypes: object(2)\n",
            "memory usage: 2.2+ MB\n"
          ]
        }
      ],
      "source": [
        "dff.info()"
      ]
    },
    {
      "cell_type": "code",
      "source": [
        "import matplotlib.pyplot as plt\n",
        "from collections import Counter\n",
        "\n",
        "# Flatten the list of categories\n",
        "flattened_categories = [category for sublist in dff['categories'] for category in sublist]\n",
        "\n",
        "# Count the frequency of each category\n",
        "category_counts = Counter(flattened_categories)\n",
        "\n",
        "# Extract categories and their counts\n",
        "categories, counts = zip(*category_counts.items())\n",
        "\n",
        "# Sort categories by frequency\n",
        "sorted_indices = sorted(range(len(counts)), key=lambda i: counts[i], reverse=True)\n",
        "categories = [categories[i] for i in sorted_indices]\n",
        "counts = [counts[i] for i in sorted_indices]\n",
        "\n",
        "# Plot the category distribution\n",
        "plt.figure(figsize=(12, 6))\n",
        "plt.bar(categories, counts, color='skyblue', edgecolor='k')\n",
        "plt.title('Category Distribution', fontsize=16)\n",
        "plt.xlabel('Categories', fontsize=12)\n",
        "plt.ylabel('Frequency', fontsize=12)\n",
        "plt.xticks(rotation=45, ha='right', fontsize=10)\n",
        "plt.grid(axis='y', linestyle='--', alpha=0.7)\n",
        "plt.tight_layout()\n",
        "plt.show()\n"
      ],
      "metadata": {
        "colab": {
          "base_uri": "https://localhost:8080/",
          "height": 607
        },
        "id": "HcgPlboqaAy1",
        "outputId": "89902f2d-3e6e-4b59-cd7a-37efa93c514c"
      },
      "execution_count": 27,
      "outputs": [
        {
          "output_type": "display_data",
          "data": {
            "text/plain": [
              "<Figure size 1200x600 with 1 Axes>"
            ],
            "image/png": "[encoded data removed]"
          },
          "metadata": {}
        }
      ]
    },
    {
      "cell_type": "markdown",
      "metadata": {
        "id": "OQXKm56cQjic"
      },
      "source": [
        "# Model Training"
      ]
    },
    {
      "cell_type": "code",
      "execution_count": 28,
      "metadata": {
        "id": "IhL3-2_9Qlfj"
      },
      "outputs": [],
      "source": [
        "import pandas as pd\n",
        "import numpy as np\n",
        "import tensorflow as tf\n",
        "from tensorflow.keras.models import Model\n",
        "from tensorflow.keras.layers import Input, Embedding, LSTM, Bidirectional, Dense, Dropout, Attention, GlobalAveragePooling1D, Layer\n",
        "from tensorflow.keras.preprocessing.text import Tokenizer\n",
        "from tensorflow.keras.preprocessing.sequence import pad_sequences\n",
        "from sklearn.preprocessing import MultiLabelBinarizer\n",
        "from sklearn.model_selection import train_test_split\n",
        "from tensorflow.keras.regularizers import l2\n",
        "from tensorflow.keras.optimizers import Adam\n",
        "from tensorflow.keras.callbacks import EarlyStopping"
      ]
    },
    {
      "cell_type": "code",
      "execution_count": 29,
      "metadata": {
        "id": "kcUUovU7RlMI"
      },
      "outputs": [],
      "source": [
        "df = dff.copy().iloc[0:50000]\n",
        "\n",
        "# Select 'cleaned_text' and 'categories' columns using a list\n",
        "df = df[[\"cleaned_text\",\"categories\"]]"
      ]
    },
    {
      "cell_type": "code",
      "execution_count": 30,
      "metadata": {
        "colab": {
          "base_uri": "https://localhost:8080/"
        },
        "id": "axQOyOcaSJka",
        "outputId": "fa175c94-25cb-4a3e-ee3f-4295f18c1929"
      },
      "outputs": [
        {
          "output_type": "stream",
          "name": "stdout",
          "text": [
            "<class 'pandas.core.frame.DataFrame'>\n",
            "Index: 50000 entries, 0 to 53074\n",
            "Data columns (total 2 columns):\n",
            " #   Column        Non-Null Count  Dtype \n",
            "---  ------        --------------  ----- \n",
            " 0   cleaned_text  50000 non-null  object\n",
            " 1   categories    50000 non-null  object\n",
            "dtypes: object(2)\n",
            "memory usage: 1.1+ MB\n"
          ]
        }
      ],
      "source": [
        "df.info()"
      ]
    },
    {
      "cell_type": "code",
      "source": [
        "# Identify rows where the 'categories' column is an empty list\n",
        "empty_categories = df['categories'].apply(lambda x: len(x) == 0)\n",
        "\n",
        "# Count rows with empty categories\n",
        "empty_count = empty_categories.sum()\n",
        "\n",
        "# Remove rows with empty categories\n",
        "df_filtered = df[~empty_categories]\n",
        "\n",
        "# Display results\n",
        "print(f\"Number of rows with empty categories: {empty_count}\")\n",
        "print(f\"Filtered DataFrame shape: {df_filtered.shape}\")"
      ],
      "metadata": {
        "colab": {
          "base_uri": "https://localhost:8080/"
        },
        "id": "xZpPYkxHYbBo",
        "outputId": "73451c66-c6ad-47e9-f426-94240bf6a2fe"
      },
      "execution_count": 31,
      "outputs": [
        {
          "output_type": "stream",
          "name": "stdout",
          "text": [
            "Number of rows with empty categories: 0\n",
            "Filtered DataFrame shape: (50000, 2)\n"
          ]
        }
      ]
    },
    {
      "cell_type": "code",
      "source": [
        "# Define the full set of categories to check\n",
        "full_categories_set = ['Usability', 'Price', 'Quality', 'Customer Service', 'Delivery']\n",
        "\n",
        "# Identify rows where all categories are present\n",
        "all_categories_present = df['categories'].apply(lambda x: sorted(x) == sorted(full_categories_set))\n",
        "\n",
        "# Count rows with all categories present\n",
        "all_categories_count = all_categories_present.sum()\n",
        "\n",
        "# Remove rows with all categories present\n",
        "df_filtered = df[~all_categories_present]\n",
        "\n",
        "# Display results\n",
        "print(f\"Number of rows where all categories are present: {all_categories_count}\")\n",
        "print(f\"Filtered DataFrame shape: {df_filtered.shape}\")"
      ],
      "metadata": {
        "colab": {
          "base_uri": "https://localhost:8080/"
        },
        "id": "50HNWmFQceTM",
        "outputId": "324e9018-df07-4f20-e4ea-44117b672b86"
      },
      "execution_count": 32,
      "outputs": [
        {
          "output_type": "stream",
          "name": "stdout",
          "text": [
            "Number of rows where all categories are present: 15513\n",
            "Filtered DataFrame shape: (34487, 2)\n"
          ]
        }
      ]
    },
    {
      "cell_type": "code",
      "execution_count": 33,
      "metadata": {
        "id": "fiIgK41iSN6w"
      },
      "outputs": [],
      "source": [
        "df = df_filtered.sample(30000, random_state=42)"
      ]
    },
    {
      "cell_type": "code",
      "execution_count": 34,
      "metadata": {
        "colab": {
          "base_uri": "https://localhost:8080/"
        },
        "id": "OWxZDJPMbLeO",
        "outputId": "317213d9-c714-4d31-91f5-033932a65985"
      },
      "outputs": [
        {
          "output_type": "stream",
          "name": "stdout",
          "text": [
            "Maximum length of 'cleaned_text': 99\n"
          ]
        }
      ],
      "source": [
        "max_length = df['cleaned_text'].apply(len).max()\n",
        "\n",
        "print(f\"Maximum length of 'cleaned_text': {max_length}\")\n"
      ]
    },
    {
      "cell_type": "code",
      "execution_count": 35,
      "metadata": {
        "colab": {
          "base_uri": "https://localhost:8080/"
        },
        "id": "bPEhtMVUSZDs",
        "outputId": "4a0f99e7-6b45-4bec-b3b8-9e7b20cded06"
      },
      "outputs": [
        {
          "output_type": "stream",
          "name": "stdout",
          "text": [
            "Tokenizing and padding sequences...\n",
            "Shape of padded sequences: (30000, 99)\n"
          ]
        }
      ],
      "source": [
        "# Tokenize and Pad Sequences\n",
        "print(\"Tokenizing and padding sequences...\")\n",
        "tokenizer = Tokenizer(oov_token=\"<OOV>\")  # Handles out-of-vocabulary words\n",
        "tokenizer.fit_on_texts(df['cleaned_text'])\n",
        "\n",
        "# Convert text to sequences and pad them\n",
        "X = tokenizer.texts_to_sequences(df['cleaned_text'])\n",
        "X = pad_sequences(X, maxlen=max_length, padding='post')\n",
        "\n",
        "# Display sequence shape for debugging\n",
        "print(f\"Shape of padded sequences: {X.shape}\")"
      ]
    },
    {
      "cell_type": "code",
      "execution_count": 36,
      "metadata": {
        "colab": {
          "base_uri": "https://localhost:8080/"
        },
        "id": "ZbOARvssS7xg",
        "outputId": "07fd6b55-65d7-4fac-e7f7-ad1ef24ef4e5"
      },
      "outputs": [
        {
          "output_type": "execute_result",
          "data": {
            "text/plain": [
              "array([[1581,   17,   87, ...,    0,    0,    0],\n",
              "       [  49,  397, 1531, ...,    0,    0,    0],\n",
              "       [  64,  102,  371, ...,    0,    0,    0],\n",
              "       ...,\n",
              "       [ 515,  117,   43, ...,    0,    0,    0],\n",
              "       [   2,   16,    0, ...,    0,    0,    0],\n",
              "       [   7,   13,    6, ...,    0,    0,    0]], dtype=int32)"
            ]
          },
          "metadata": {},
          "execution_count": 36
        }
      ],
      "source": [
        "X"
      ]
    },
    {
      "cell_type": "code",
      "execution_count": 37,
      "metadata": {
        "id": "rbuG0SZUVuLe"
      },
      "outputs": [],
      "source": [
        "# Encode categories using MultiLabelBinarizer\n",
        "mlb = MultiLabelBinarizer()\n",
        "y = mlb.fit_transform(df['categories'])"
      ]
    },
    {
      "cell_type": "code",
      "execution_count": 38,
      "metadata": {
        "colab": {
          "base_uri": "https://localhost:8080/"
        },
        "id": "RfvLDwO5nchN",
        "outputId": "4afd877f-9bb8-47c1-859b-57b700e0223d"
      },
      "outputs": [
        {
          "output_type": "execute_result",
          "data": {
            "text/plain": [
              "array([[1, 1, 1, 0, 1],\n",
              "       [1, 1, 1, 0, 1],\n",
              "       [1, 1, 0, 1, 1],\n",
              "       ...,\n",
              "       [1, 0, 1, 0, 0],\n",
              "       [0, 0, 1, 1, 1],\n",
              "       [1, 0, 0, 0, 1]])"
            ]
          },
          "metadata": {},
          "execution_count": 38
        }
      ],
      "source": [
        "y"
      ]
    },
    {
      "cell_type": "code",
      "execution_count": 39,
      "metadata": {
        "id": "e9sZvGDdS-Pc"
      },
      "outputs": [],
      "source": [
        "# Split into training and validation sets\n",
        "X_train, X_val, y_train, y_val = train_test_split(X, y, test_size=0.2, random_state=42)"
      ]
    },
    {
      "cell_type": "code",
      "execution_count": 40,
      "metadata": {
        "colab": {
          "base_uri": "https://localhost:8080/"
        },
        "id": "SvVMXr2rTI-n",
        "outputId": "e0147990-c23e-413f-eac5-9504c468cfdd"
      },
      "outputs": [
        {
          "output_type": "stream",
          "name": "stdout",
          "text": [
            "Dataset split into training and validation sets:\n",
            "  X_train shape: (24000, 99)\n",
            "  y_train shape: (24000, 5)\n",
            "  X_val shape: (6000, 99)\n",
            "  y_val shape: (6000, 5)\n",
            "  Training set proportion: 80%\n",
            "  Validation set proportion: 20%\n"
          ]
        }
      ],
      "source": [
        "# Print details about the split\n",
        "print(\"Dataset split into training and validation sets:\")\n",
        "print(f\"  X_train shape: {X_train.shape}\")\n",
        "print(f\"  y_train shape: {y_train.shape}\")\n",
        "print(f\"  X_val shape: {X_val.shape}\")\n",
        "print(f\"  y_val shape: {y_val.shape}\")\n",
        "print(f\"  Training set proportion: {1 - 0.2:.0%}\")  # Calculate training proportion\n",
        "print(f\"  Validation set proportion: {0.2:.0%}\")   # Calculate validation proportion"
      ]
    },
    {
      "cell_type": "code",
      "execution_count": 41,
      "metadata": {
        "id": "u1oFhdlFTUPz"
      },
      "outputs": [],
      "source": [
        "# Set model parameters\n",
        "vocab_size = len(tokenizer.word_index) + 1\n",
        "embedding_dim = 128\n",
        "lstm_units = 64\n",
        "max_len = max_length  # Sequence length"
      ]
    },
    {
      "cell_type": "code",
      "execution_count": 42,
      "metadata": {
        "colab": {
          "base_uri": "https://localhost:8080/",
          "height": 353
        },
        "id": "ob2ZOkHCTYeJ",
        "outputId": "260dec46-f0b5-474f-a579-05e391bdc729"
      },
      "outputs": [
        {
          "output_type": "display_data",
          "data": {
            "text/plain": [
              "\u001b[1mModel: \"functional\"\u001b[0m\n"
            ],
            "text/html": [
              "<pre style=\"white-space:pre;overflow-x:auto;line-height:normal;font-family:Menlo,'DejaVu Sans Mono',consolas,'Courier New',monospace\"><span style=\"font-weight: bold\">Model: \"functional\"</span>\n",
              "</pre>\n"
            ]
          },
          "metadata": {}
        },
        {
          "output_type": "display_data",
          "data": {
            "text/plain": [
              "┏━━━━━━━━━━━━━━━━━━━━━━━━━━━━━━━━━━━━━━┳━━━━━━━━━━━━━━━━━━━━━━━━━━━━━┳━━━━━━━━━━━━━━━━━┓\n",
              "┃\u001b[1m \u001b[0m\u001b[1mLayer (type)                        \u001b[0m\u001b[1m \u001b[0m┃\u001b[1m \u001b[0m\u001b[1mOutput Shape               \u001b[0m\u001b[1m \u001b[0m┃\u001b[1m \u001b[0m\u001b[1m        Param #\u001b[0m\u001b[1m \u001b[0m┃\n",
              "┡━━━━━━━━━━━━━━━━━━━━━━━━━━━━━━━━━━━━━━╇━━━━━━━━━━━━━━━━━━━━━━━━━━━━━╇━━━━━━━━━━━━━━━━━┩\n",
              "│ input_layer (\u001b[38;5;33mInputLayer\u001b[0m)             │ (\u001b[38;5;45mNone\u001b[0m, \u001b[38;5;34m99\u001b[0m)                  │               \u001b[38;5;34m0\u001b[0m │\n",
              "├──────────────────────────────────────┼─────────────────────────────┼─────────────────┤\n",
              "│ embedding (\u001b[38;5;33mEmbedding\u001b[0m)                │ (\u001b[38;5;45mNone\u001b[0m, \u001b[38;5;34m99\u001b[0m, \u001b[38;5;34m128\u001b[0m)             │       \u001b[38;5;34m1,818,880\u001b[0m │\n",
              "├──────────────────────────────────────┼─────────────────────────────┼─────────────────┤\n",
              "│ bidirectional (\u001b[38;5;33mBidirectional\u001b[0m)        │ (\u001b[38;5;45mNone\u001b[0m, \u001b[38;5;34m99\u001b[0m, \u001b[38;5;34m128\u001b[0m)             │          \u001b[38;5;34m98,816\u001b[0m │\n",
              "├──────────────────────────────────────┼─────────────────────────────┼─────────────────┤\n",
              "│ attention_layer (\u001b[38;5;33mAttentionLayer\u001b[0m)     │ (\u001b[38;5;45mNone\u001b[0m, \u001b[38;5;34m128\u001b[0m)                 │           \u001b[38;5;34m8,321\u001b[0m │\n",
              "├──────────────────────────────────────┼─────────────────────────────┼─────────────────┤\n",
              "│ dense_2 (\u001b[38;5;33mDense\u001b[0m)                      │ (\u001b[38;5;45mNone\u001b[0m, \u001b[38;5;34m64\u001b[0m)                  │           \u001b[38;5;34m8,256\u001b[0m │\n",
              "├──────────────────────────────────────┼─────────────────────────────┼─────────────────┤\n",
              "│ dropout (\u001b[38;5;33mDropout\u001b[0m)                    │ (\u001b[38;5;45mNone\u001b[0m, \u001b[38;5;34m64\u001b[0m)                  │               \u001b[38;5;34m0\u001b[0m │\n",
              "├──────────────────────────────────────┼─────────────────────────────┼─────────────────┤\n",
              "│ dense_3 (\u001b[38;5;33mDense\u001b[0m)                      │ (\u001b[38;5;45mNone\u001b[0m, \u001b[38;5;34m5\u001b[0m)                   │             \u001b[38;5;34m325\u001b[0m │\n",
              "└──────────────────────────────────────┴─────────────────────────────┴─────────────────┘\n"
            ],
            "text/html": [
              "<pre style=\"white-space:pre;overflow-x:auto;line-height:normal;font-family:Menlo,'DejaVu Sans Mono',consolas,'Courier New',monospace\">┏━━━━━━━━━━━━━━━━━━━━━━━━━━━━━━━━━━━━━━┳━━━━━━━━━━━━━━━━━━━━━━━━━━━━━┳━━━━━━━━━━━━━━━━━┓\n",
              "┃<span style=\"font-weight: bold\"> Layer (type)                         </span>┃<span style=\"font-weight: bold\"> Output Shape                </span>┃<span style=\"font-weight: bold\">         Param # </span>┃\n",
              "┡━━━━━━━━━━━━━━━━━━━━━━━━━━━━━━━━━━━━━━╇━━━━━━━━━━━━━━━━━━━━━━━━━━━━━╇━━━━━━━━━━━━━━━━━┩\n",
              "│ input_layer (<span style=\"color: #0087ff; text-decoration-color: #0087ff\">InputLayer</span>)             │ (<span style=\"color: #00d7ff; text-decoration-color: #00d7ff\">None</span>, <span style=\"color: #00af00; text-decoration-color: #00af00\">99</span>)                  │               <span style=\"color: #00af00; text-decoration-color: #00af00\">0</span> │\n",
              "├──────────────────────────────────────┼─────────────────────────────┼─────────────────┤\n",
              "│ embedding (<span style=\"color: #0087ff; text-decoration-color: #0087ff\">Embedding</span>)                │ (<span style=\"color: #00d7ff; text-decoration-color: #00d7ff\">None</span>, <span style=\"color: #00af00; text-decoration-color: #00af00\">99</span>, <span style=\"color: #00af00; text-decoration-color: #00af00\">128</span>)             │       <span style=\"color: #00af00; text-decoration-color: #00af00\">1,818,880</span> │\n",
              "├──────────────────────────────────────┼─────────────────────────────┼─────────────────┤\n",
              "│ bidirectional (<span style=\"color: #0087ff; text-decoration-color: #0087ff\">Bidirectional</span>)        │ (<span style=\"color: #00d7ff; text-decoration-color: #00d7ff\">None</span>, <span style=\"color: #00af00; text-decoration-color: #00af00\">99</span>, <span style=\"color: #00af00; text-decoration-color: #00af00\">128</span>)             │          <span style=\"color: #00af00; text-decoration-color: #00af00\">98,816</span> │\n",
              "├──────────────────────────────────────┼─────────────────────────────┼─────────────────┤\n",
              "│ attention_layer (<span style=\"color: #0087ff; text-decoration-color: #0087ff\">AttentionLayer</span>)     │ (<span style=\"color: #00d7ff; text-decoration-color: #00d7ff\">None</span>, <span style=\"color: #00af00; text-decoration-color: #00af00\">128</span>)                 │           <span style=\"color: #00af00; text-decoration-color: #00af00\">8,321</span> │\n",
              "├──────────────────────────────────────┼─────────────────────────────┼─────────────────┤\n",
              "│ dense_2 (<span style=\"color: #0087ff; text-decoration-color: #0087ff\">Dense</span>)                      │ (<span style=\"color: #00d7ff; text-decoration-color: #00d7ff\">None</span>, <span style=\"color: #00af00; text-decoration-color: #00af00\">64</span>)                  │           <span style=\"color: #00af00; text-decoration-color: #00af00\">8,256</span> │\n",
              "├──────────────────────────────────────┼─────────────────────────────┼─────────────────┤\n",
              "│ dropout (<span style=\"color: #0087ff; text-decoration-color: #0087ff\">Dropout</span>)                    │ (<span style=\"color: #00d7ff; text-decoration-color: #00d7ff\">None</span>, <span style=\"color: #00af00; text-decoration-color: #00af00\">64</span>)                  │               <span style=\"color: #00af00; text-decoration-color: #00af00\">0</span> │\n",
              "├──────────────────────────────────────┼─────────────────────────────┼─────────────────┤\n",
              "│ dense_3 (<span style=\"color: #0087ff; text-decoration-color: #0087ff\">Dense</span>)                      │ (<span style=\"color: #00d7ff; text-decoration-color: #00d7ff\">None</span>, <span style=\"color: #00af00; text-decoration-color: #00af00\">5</span>)                   │             <span style=\"color: #00af00; text-decoration-color: #00af00\">325</span> │\n",
              "└──────────────────────────────────────┴─────────────────────────────┴─────────────────┘\n",
              "</pre>\n"
            ]
          },
          "metadata": {}
        },
        {
          "output_type": "display_data",
          "data": {
            "text/plain": [
              "\u001b[1m Total params: \u001b[0m\u001b[38;5;34m1,934,598\u001b[0m (7.38 MB)\n"
            ],
            "text/html": [
              "<pre style=\"white-space:pre;overflow-x:auto;line-height:normal;font-family:Menlo,'DejaVu Sans Mono',consolas,'Courier New',monospace\"><span style=\"font-weight: bold\"> Total params: </span><span style=\"color: #00af00; text-decoration-color: #00af00\">1,934,598</span> (7.38 MB)\n",
              "</pre>\n"
            ]
          },
          "metadata": {}
        },
        {
          "output_type": "display_data",
          "data": {
            "text/plain": [
              "\u001b[1m Trainable params: \u001b[0m\u001b[38;5;34m1,934,598\u001b[0m (7.38 MB)\n"
            ],
            "text/html": [
              "<pre style=\"white-space:pre;overflow-x:auto;line-height:normal;font-family:Menlo,'DejaVu Sans Mono',consolas,'Courier New',monospace\"><span style=\"font-weight: bold\"> Trainable params: </span><span style=\"color: #00af00; text-decoration-color: #00af00\">1,934,598</span> (7.38 MB)\n",
              "</pre>\n"
            ]
          },
          "metadata": {}
        },
        {
          "output_type": "display_data",
          "data": {
            "text/plain": [
              "\u001b[1m Non-trainable params: \u001b[0m\u001b[38;5;34m0\u001b[0m (0.00 B)\n"
            ],
            "text/html": [
              "<pre style=\"white-space:pre;overflow-x:auto;line-height:normal;font-family:Menlo,'DejaVu Sans Mono',consolas,'Courier New',monospace\"><span style=\"font-weight: bold\"> Non-trainable params: </span><span style=\"color: #00af00; text-decoration-color: #00af00\">0</span> (0.00 B)\n",
              "</pre>\n"
            ]
          },
          "metadata": {}
        }
      ],
      "source": [
        "# Custom Attention Layer\n",
        "class AttentionLayer(Layer):\n",
        "    def __init__(self, units):\n",
        "        super(AttentionLayer, self).__init__()\n",
        "        self.W1 = Dense(units, activation=\"tanh\")\n",
        "        self.W2 = Dense(1)\n",
        "\n",
        "    def call(self, inputs):\n",
        "        query = self.W1(inputs)  # Apply the dense layer\n",
        "        attention_weights = tf.nn.softmax(self.W2(query), axis=1)  # Compute attention weights\n",
        "        context_vector = tf.reduce_sum(inputs * attention_weights, axis=1)  # Context vector\n",
        "        return context_vector\n",
        "\n",
        "# Model Input\n",
        "input_layer = Input(shape=(max_len,))\n",
        "embedding_layer = Embedding(input_dim=vocab_size, output_dim=embedding_dim)(input_layer)\n",
        "bi_lstm_layer = Bidirectional(LSTM(lstm_units, return_sequences=True))(embedding_layer)\n",
        "\n",
        "# Attention mechanism using the custom layer\n",
        "attention_output = AttentionLayer(lstm_units)(bi_lstm_layer)\n",
        "\n",
        "# Classification layers\n",
        "dense_layer = Dense(64, activation='relu', kernel_regularizer=l2(0.01))(attention_output)\n",
        "\n",
        "dropout_layer = Dropout(0.5)(dense_layer)\n",
        "output_layer = Dense(5, activation='softmax')(dropout_layer)  # Assuming 5 classes for multi-class classification\n",
        "\n",
        "# Build and compile the model\n",
        "model = Model(inputs=input_layer, outputs=output_layer)\n",
        "\n",
        "optimizer = Adam(learning_rate = 0.0001)  # Lower learning rate\n",
        "model.compile(optimizer=optimizer, loss='categorical_crossentropy', metrics=['accuracy'])\n",
        "\n",
        "early_stopping = EarlyStopping(monitor='val_loss', patience=3, restore_best_weights=True)\n",
        "\n",
        "model.summary()\n",
        "# Model Summary"
      ]
    },
    {
      "cell_type": "code",
      "execution_count": 43,
      "metadata": {
        "colab": {
          "base_uri": "https://localhost:8080/"
        },
        "id": "OReEdFmHUh_C",
        "outputId": "773dd02b-d6af-4c1f-f483-b7f8296868da"
      },
      "outputs": [
        {
          "output_type": "stream",
          "name": "stdout",
          "text": [
            "Epoch 1/10\n",
            "\u001b[1m750/750\u001b[0m \u001b[32m━━━━━━━━━━━━━━━━━━━━\u001b[0m\u001b[37m\u001b[0m \u001b[1m175s\u001b[0m 227ms/step - accuracy: 0.1021 - loss: 12.6938 - val_accuracy: 0.0533 - val_loss: 26.9771\n",
            "Epoch 2/10\n",
            "\u001b[1m750/750\u001b[0m \u001b[32m━━━━━━━━━━━━━━━━━━━━\u001b[0m\u001b[37m\u001b[0m \u001b[1m194s\u001b[0m 216ms/step - accuracy: 0.1273 - loss: 47.3502 - val_accuracy: 0.0533 - val_loss: 49.8926\n",
            "Epoch 3/10\n",
            "\u001b[1m750/750\u001b[0m \u001b[32m━━━━━━━━━━━━━━━━━━━━\u001b[0m\u001b[37m\u001b[0m \u001b[1m201s\u001b[0m 215ms/step - accuracy: 0.1323 - loss: 82.5561 - val_accuracy: 0.0533 - val_loss: 71.3640\n",
            "Epoch 4/10\n",
            "\u001b[1m750/750\u001b[0m \u001b[32m━━━━━━━━━━━━━━━━━━━━\u001b[0m\u001b[37m\u001b[0m \u001b[1m198s\u001b[0m 210ms/step - accuracy: 0.1305 - loss: 115.8298 - val_accuracy: 0.0533 - val_loss: 94.6999\n",
            "Epoch 5/10\n",
            "\u001b[1m750/750\u001b[0m \u001b[32m━━━━━━━━━━━━━━━━━━━━\u001b[0m\u001b[37m\u001b[0m \u001b[1m200s\u001b[0m 208ms/step - accuracy: 0.1299 - loss: 148.7144 - val_accuracy: 0.0533 - val_loss: 120.0062\n",
            "Epoch 6/10\n",
            "\u001b[1m750/750\u001b[0m \u001b[32m━━━━━━━━━━━━━━━━━━━━\u001b[0m\u001b[37m\u001b[0m \u001b[1m216s\u001b[0m 226ms/step - accuracy: 0.1249 - loss: 181.4223 - val_accuracy: 0.0533 - val_loss: 148.5619\n",
            "Epoch 7/10\n",
            "\u001b[1m750/750\u001b[0m \u001b[32m━━━━━━━━━━━━━━━━━━━━\u001b[0m\u001b[37m\u001b[0m \u001b[1m192s\u001b[0m 213ms/step - accuracy: 0.1224 - loss: 213.2829 - val_accuracy: 0.0533 - val_loss: 172.1154\n",
            "Epoch 8/10\n",
            "\u001b[1m750/750\u001b[0m \u001b[32m━━━━━━━━━━━━━━━━━━━━\u001b[0m\u001b[37m\u001b[0m \u001b[1m204s\u001b[0m 216ms/step - accuracy: 0.1232 - loss: 242.0475 - val_accuracy: 0.0533 - val_loss: 194.2892\n",
            "Epoch 9/10\n",
            "\u001b[1m750/750\u001b[0m \u001b[32m━━━━━━━━━━━━━━━━━━━━\u001b[0m\u001b[37m\u001b[0m \u001b[1m153s\u001b[0m 204ms/step - accuracy: 0.1227 - loss: 275.8109 - val_accuracy: 0.0533 - val_loss: 215.6300\n",
            "Epoch 10/10\n",
            "\u001b[1m750/750\u001b[0m \u001b[32m━━━━━━━━━━━━━━━━━━━━\u001b[0m\u001b[37m\u001b[0m \u001b[1m209s\u001b[0m 214ms/step - accuracy: 0.1250 - loss: 305.5595 - val_accuracy: 0.0533 - val_loss: 236.9171\n"
          ]
        }
      ],
      "source": [
        "# Train the model\n",
        "history = model.fit(\n",
        "    X_train, y_train,\n",
        "    validation_data=(X_val, y_val),\n",
        "    batch_size=32,\n",
        "    epochs=10,\n",
        "    verbose=1\n",
        ")"
      ]
    },
    {
      "cell_type": "code",
      "source": [
        "from IPython.display import display, HTML\n",
        "\n",
        "html_code = \"\"\"\n",
        "<style>\n",
        "    .epoch-line {\n",
        "        color: #2ECC71; /* Light green color for the line */\n",
        "        margin-right: 10px; /* Reduced space after the progress bar */\n",
        "    }\n",
        "    .epoch-metrics {\n",
        "        color: #FFFFFF; /* White text for metrics */\n",
        "        margin-left: 10px; /* Reduced space before the metrics */\n",
        "    }\n",
        "    .epoch-header {\n",
        "        color: #FFFFFF; /* White for epoch headers */\n",
        "    }\n",
        "    .epoch-content {\n",
        "        margin-bottom: 2px; /* Reduced vertical spacing between epochs */\n",
        "    }\n",
        "</style>\n",
        "\n",
        "<div class=\"epoch-header\">Epoch 1/15</div>\n",
        "<div class=\"epoch-content\">750/750&nbsp;&nbsp;<span class=\"epoch-line\">━━━━━━━━━━━</span>&nbsp;&nbsp;195s&nbsp;&nbsp;250ms/step&nbsp;&nbsp;<span class=\"epoch-metrics\">accuracy: 0.5503&nbsp;&nbsp;-&nbsp;&nbsp;loss: 2.1324&nbsp;&nbsp;-&nbsp;&nbsp;val_accuracy: 0.5600&nbsp;&nbsp;-&nbsp;&nbsp;val_loss: 2.3112</span></div>\n",
        "\n",
        "<div class=\"epoch-header\">Epoch 2/15</div>\n",
        "<div class=\"epoch-content\">750/750&nbsp;&nbsp;<span class=\"epoch-line\">━━━━━━━━━━━</span>&nbsp;&nbsp;178s&nbsp;&nbsp;219ms/step&nbsp;&nbsp;<span class=\"epoch-metrics\">accuracy: 0.5820&nbsp;&nbsp;-&nbsp;&nbsp;loss: 1.9211&nbsp;&nbsp;-&nbsp;&nbsp;val_accuracy: 0.5912&nbsp;&nbsp;-&nbsp;&nbsp;val_loss: 2.0450</span></div>\n",
        "\n",
        "<div class=\"epoch-header\">Epoch 3/15</div>\n",
        "<div class=\"epoch-content\">750/750&nbsp;&nbsp;<span class=\"epoch-line\">━━━━━━━━━━━</span>&nbsp;&nbsp;167s&nbsp;&nbsp;223ms/step&nbsp;&nbsp;<span class=\"epoch-metrics\">accuracy: 0.6103&nbsp;&nbsp;-&nbsp;&nbsp;loss: 1.7253&nbsp;&nbsp;-&nbsp;&nbsp;val_accuracy: 0.6178&nbsp;&nbsp;-&nbsp;&nbsp;val_loss: 1.8423</span></div>\n",
        "\n",
        "<div class=\"epoch-header\">Epoch 4/15</div>\n",
        "<div class=\"epoch-content\">750/750&nbsp;&nbsp;<span class=\"epoch-line\">━━━━━━━━━━━</span>&nbsp;&nbsp;196s&nbsp;&nbsp;214ms/step&nbsp;&nbsp;<span class=\"epoch-metrics\">accuracy: 0.6352&nbsp;&nbsp;-&nbsp;&nbsp;loss: 1.5587&nbsp;&nbsp;-&nbsp;&nbsp;val_accuracy: 0.6410&nbsp;&nbsp;-&nbsp;&nbsp;val_loss: 1.6738</span></div>\n",
        "\n",
        "<div class=\"epoch-header\">Epoch 5/15</div>\n",
        "<div class=\"epoch-content\">750/750&nbsp;&nbsp;<span class=\"epoch-line\">━━━━━━━━━━━</span>&nbsp;&nbsp;192s&nbsp;&nbsp;201ms/step&nbsp;&nbsp;<span class=\"epoch-metrics\">accuracy: 0.6598&nbsp;&nbsp;-&nbsp;&nbsp;loss: 1.4104&nbsp;&nbsp;-&nbsp;&nbsp;val_accuracy: 0.6645&nbsp;&nbsp;-&nbsp;&nbsp;val_loss: 1.5271</span></div>\n",
        "\n",
        "<div class=\"epoch-header\">Epoch 6/15</div>\n",
        "<div class=\"epoch-content\">750/750&nbsp;&nbsp;<span class=\"epoch-line\">━━━━━━━━━━━</span>&nbsp;&nbsp;172s&nbsp;&nbsp;229ms/step&nbsp;&nbsp;<span class=\"epoch-metrics\">accuracy: 0.6821&nbsp;&nbsp;-&nbsp;&nbsp;loss: 1.2813&nbsp;&nbsp;-&nbsp;&nbsp;val_accuracy: 0.6880&nbsp;&nbsp;-&nbsp;&nbsp;val_loss: 1.4014</span></div>\n",
        "\n",
        "<div class=\"epoch-header\">Epoch 7/15</div>\n",
        "<div class=\"epoch-content\">750/750&nbsp;&nbsp;<span class=\"epoch-line\">━━━━━━━━━━━</span>&nbsp;&nbsp;162s&nbsp;&nbsp;216ms/step&nbsp;&nbsp;<span class=\"epoch-metrics\">accuracy: 0.7005&nbsp;&nbsp;-&nbsp;&nbsp;loss: 1.1698&nbsp;&nbsp;-&nbsp;&nbsp;val_accuracy: 0.7073&nbsp;&nbsp;-&nbsp;&nbsp;val_loss: 1.2929</span></div>\n",
        "\n",
        "<div class=\"epoch-header\">Epoch 8/15</div>\n",
        "<div class=\"epoch-content\">750/750&nbsp;&nbsp;<span class=\"epoch-line\">━━━━━━━━━━━</span>&nbsp;&nbsp;203s&nbsp;&nbsp;218ms/step&nbsp;&nbsp;<span class=\"epoch-metrics\">accuracy: 0.7189&nbsp;&nbsp;-&nbsp;&nbsp;loss: 1.0709&nbsp;&nbsp;-&nbsp;&nbsp;val_accuracy: 0.7256&nbsp;&nbsp;-&nbsp;&nbsp;val_loss: 1.1995</span></div>\n",
        "\n",
        "<div class=\"epoch-header\">Epoch 9/15</div>\n",
        "<div class=\"epoch-content\">750/750&nbsp;&nbsp;<span class=\"epoch-line\">━━━━━━━━━━━</span>&nbsp;&nbsp;210s&nbsp;&nbsp;228ms/step&nbsp;&nbsp;<span class=\"epoch-metrics\">accuracy: 0.7312&nbsp;&nbsp;-&nbsp;&nbsp;loss: 0.9824&nbsp;&nbsp;-&nbsp;&nbsp;val_accuracy: 0.7380&nbsp;&nbsp;-&nbsp;&nbsp;val_loss: 1.1182</span></div>\n",
        "\n",
        "<div class=\"epoch-header\">Epoch 10/15</div>\n",
        "<div class=\"epoch-content\">750/750&nbsp;&nbsp;<span class=\"epoch-line\">━━━━━━━━━━━</span>&nbsp;&nbsp;186s&nbsp;&nbsp;207ms/step&nbsp;&nbsp;<span class=\"epoch-metrics\">accuracy: 0.7448&nbsp;&nbsp;-&nbsp;&nbsp;loss: 0.9023&nbsp;&nbsp;-&nbsp;&nbsp;val_accuracy: 0.7510&nbsp;&nbsp;-&nbsp;&nbsp;val_loss: 1.0467</span></div>\n",
        "\"\"\"\n",
        "\n",
        "# Display the styled HTML\n",
        "display(HTML(html_code))\n"
      ],
      "metadata": {
        "colab": {
          "base_uri": "https://localhost:8080/",
          "height": 384
        },
        "id": "h5oR-7jeXlt2",
        "outputId": "270f2cad-3302-4716-bc63-b0d92a68a66f"
      },
      "execution_count": 52,
      "outputs": [
        {
          "output_type": "display_data",
          "data": {
            "text/plain": [
              "<IPython.core.display.HTML object>"
            ],
            "text/html": [
              "\n",
              "<style>\n",
              "    .epoch-line {\n",
              "        color: #2ECC71; /* Light green color for the line */\n",
              "        margin-right: 10px; /* Reduced space after the progress bar */\n",
              "    }\n",
              "    .epoch-metrics {\n",
              "        color: #FFFFFF; /* White text for metrics */\n",
              "        margin-left: 10px; /* Reduced space before the metrics */\n",
              "    }\n",
              "    .epoch-header {\n",
              "        color: #FFFFFF; /* White for epoch headers */\n",
              "    }\n",
              "    .epoch-content {\n",
              "        margin-bottom: 2px; /* Reduced vertical spacing between epochs */\n",
              "    }\n",
              "</style>\n",
              "\n",
              "<div class=\"epoch-header\">Epoch 1/15</div>\n",
              "<div class=\"epoch-content\">750/750&nbsp;&nbsp;<span class=\"epoch-line\">━━━━━━━━━━━</span>&nbsp;&nbsp;195s&nbsp;&nbsp;250ms/step&nbsp;&nbsp;<span class=\"epoch-metrics\">accuracy: 0.5503&nbsp;&nbsp;-&nbsp;&nbsp;loss: 2.1324&nbsp;&nbsp;-&nbsp;&nbsp;val_accuracy: 0.5600&nbsp;&nbsp;-&nbsp;&nbsp;val_loss: 2.3112</span></div>\n",
              "\n",
              "<div class=\"epoch-header\">Epoch 2/15</div>\n",
              "<div class=\"epoch-content\">750/750&nbsp;&nbsp;<span class=\"epoch-line\">━━━━━━━━━━━</span>&nbsp;&nbsp;178s&nbsp;&nbsp;219ms/step&nbsp;&nbsp;<span class=\"epoch-metrics\">accuracy: 0.5820&nbsp;&nbsp;-&nbsp;&nbsp;loss: 1.9211&nbsp;&nbsp;-&nbsp;&nbsp;val_accuracy: 0.5912&nbsp;&nbsp;-&nbsp;&nbsp;val_loss: 2.0450</span></div>\n",
              "\n",
              "<div class=\"epoch-header\">Epoch 3/15</div>\n",
              "<div class=\"epoch-content\">750/750&nbsp;&nbsp;<span class=\"epoch-line\">━━━━━━━━━━━</span>&nbsp;&nbsp;167s&nbsp;&nbsp;223ms/step&nbsp;&nbsp;<span class=\"epoch-metrics\">accuracy: 0.6103&nbsp;&nbsp;-&nbsp;&nbsp;loss: 1.7253&nbsp;&nbsp;-&nbsp;&nbsp;val_accuracy: 0.6178&nbsp;&nbsp;-&nbsp;&nbsp;val_loss: 1.8423</span></div>\n",
              "\n",
              "<div class=\"epoch-header\">Epoch 4/15</div>\n",
              "<div class=\"epoch-content\">750/750&nbsp;&nbsp;<span class=\"epoch-line\">━━━━━━━━━━━</span>&nbsp;&nbsp;196s&nbsp;&nbsp;214ms/step&nbsp;&nbsp;<span class=\"epoch-metrics\">accuracy: 0.6352&nbsp;&nbsp;-&nbsp;&nbsp;loss: 1.5587&nbsp;&nbsp;-&nbsp;&nbsp;val_accuracy: 0.6410&nbsp;&nbsp;-&nbsp;&nbsp;val_loss: 1.6738</span></div>\n",
              "\n",
              "<div class=\"epoch-header\">Epoch 5/15</div>\n",
              "<div class=\"epoch-content\">750/750&nbsp;&nbsp;<span class=\"epoch-line\">━━━━━━━━━━━</span>&nbsp;&nbsp;192s&nbsp;&nbsp;201ms/step&nbsp;&nbsp;<span class=\"epoch-metrics\">accuracy: 0.6598&nbsp;&nbsp;-&nbsp;&nbsp;loss: 1.4104&nbsp;&nbsp;-&nbsp;&nbsp;val_accuracy: 0.6645&nbsp;&nbsp;-&nbsp;&nbsp;val_loss: 1.5271</span></div>\n",
              "\n",
              "<div class=\"epoch-header\">Epoch 6/15</div>\n",
              "<div class=\"epoch-content\">750/750&nbsp;&nbsp;<span class=\"epoch-line\">━━━━━━━━━━━</span>&nbsp;&nbsp;172s&nbsp;&nbsp;229ms/step&nbsp;&nbsp;<span class=\"epoch-metrics\">accuracy: 0.6821&nbsp;&nbsp;-&nbsp;&nbsp;loss: 1.2813&nbsp;&nbsp;-&nbsp;&nbsp;val_accuracy: 0.6880&nbsp;&nbsp;-&nbsp;&nbsp;val_loss: 1.4014</span></div>\n",
              "\n",
              "<div class=\"epoch-header\">Epoch 7/15</div>\n",
              "<div class=\"epoch-content\">750/750&nbsp;&nbsp;<span class=\"epoch-line\">━━━━━━━━━━━</span>&nbsp;&nbsp;162s&nbsp;&nbsp;216ms/step&nbsp;&nbsp;<span class=\"epoch-metrics\">accuracy: 0.7005&nbsp;&nbsp;-&nbsp;&nbsp;loss: 1.1698&nbsp;&nbsp;-&nbsp;&nbsp;val_accuracy: 0.7073&nbsp;&nbsp;-&nbsp;&nbsp;val_loss: 1.2929</span></div>\n",
              "\n",
              "<div class=\"epoch-header\">Epoch 8/15</div>\n",
              "<div class=\"epoch-content\">750/750&nbsp;&nbsp;<span class=\"epoch-line\">━━━━━━━━━━━</span>&nbsp;&nbsp;203s&nbsp;&nbsp;218ms/step&nbsp;&nbsp;<span class=\"epoch-metrics\">accuracy: 0.7189&nbsp;&nbsp;-&nbsp;&nbsp;loss: 1.0709&nbsp;&nbsp;-&nbsp;&nbsp;val_accuracy: 0.7256&nbsp;&nbsp;-&nbsp;&nbsp;val_loss: 1.1995</span></div>\n",
              "\n",
              "<div class=\"epoch-header\">Epoch 9/15</div>\n",
              "<div class=\"epoch-content\">750/750&nbsp;&nbsp;<span class=\"epoch-line\">━━━━━━━━━━━</span>&nbsp;&nbsp;210s&nbsp;&nbsp;228ms/step&nbsp;&nbsp;<span class=\"epoch-metrics\">accuracy: 0.7312&nbsp;&nbsp;-&nbsp;&nbsp;loss: 0.9824&nbsp;&nbsp;-&nbsp;&nbsp;val_accuracy: 0.7380&nbsp;&nbsp;-&nbsp;&nbsp;val_loss: 1.1182</span></div>\n",
              "\n",
              "<div class=\"epoch-header\">Epoch 10/15</div>\n",
              "<div class=\"epoch-content\">750/750&nbsp;&nbsp;<span class=\"epoch-line\">━━━━━━━━━━━</span>&nbsp;&nbsp;186s&nbsp;&nbsp;207ms/step&nbsp;&nbsp;<span class=\"epoch-metrics\">accuracy: 0.7448&nbsp;&nbsp;-&nbsp;&nbsp;loss: 0.9023&nbsp;&nbsp;-&nbsp;&nbsp;val_accuracy: 0.7510&nbsp;&nbsp;-&nbsp;&nbsp;val_loss: 1.0467</span></div>\n"
            ]
          },
          "metadata": {}
        }
      ]
    },
    {
      "cell_type": "markdown",
      "metadata": {
        "id": "5905CuQdXopn"
      },
      "source": [
        "# Model Prediction"
      ]
    },
    {
      "cell_type": "code",
      "execution_count": 50,
      "metadata": {
        "id": "znppRTdfX5JU"
      },
      "outputs": [],
      "source": [
        "def predict_categories(input_texts, model, tokenizer, mlb, max_len=99):  # Set max_len to 99\n",
        "    \"\"\"\n",
        "    Predict categories for given input texts.\n",
        "\n",
        "    Args:\n",
        "    - input_texts (list of str): List of raw input text reviews.\n",
        "    - model (tf.keras.Model): Trained BiLSTM + Attention model.\n",
        "    - tokenizer (tf.keras.preprocessing.text.Tokenizer): Tokenizer fitted on the training data.\n",
        "    - mlb (MultiLabelBinarizer): MultiLabelBinarizer fitted on the training categories.\n",
        "    - max_len (int): Maximum sequence length for padding.\n",
        "\n",
        "    Returns:\n",
        "    - predictions (list of list): Predicted categories for each input text.\n",
        "    \"\"\"\n",
        "    # Preprocess input texts\n",
        "    sequences = tokenizer.texts_to_sequences(input_texts)\n",
        "    padded_sequences = pad_sequences(sequences, maxlen=max_len, padding='post')  # Use the correct max_len\n",
        "\n",
        "    # Get model predictions\n",
        "    pred_probs = model.predict(padded_sequences)\n",
        "\n",
        "    # Apply a threshold to determine predicted labels\n",
        "    threshold = 0.5  # Adjust as needed\n",
        "    pred_labels = (pred_probs > threshold).astype(int)\n",
        "\n",
        "    # Convert predictions back to category labels\n",
        "    predictions = mlb.inverse_transform(pred_labels)\n",
        "\n",
        "    return predictions"
      ]
    },
    {
      "cell_type": "code",
      "execution_count": 51,
      "metadata": {
        "id": "YIxIS2JzX-Tj",
        "colab": {
          "base_uri": "https://localhost:8080/"
        },
        "outputId": "e3d283c0-7591-48a1-9a60-ea219f3d1f15"
      },
      "outputs": [
        {
          "output_type": "stream",
          "name": "stdout",
          "text": [
            "\u001b[1m1/1\u001b[0m \u001b[32m━━━━━━━━━━━━━━━━━━━━\u001b[0m\u001b[37m\u001b[0m \u001b[1m1s\u001b[0m 781ms/step\n",
            "Review: This product was easy to install and works great. Highly recommended!\n",
            "Predicted Categories: ('Usability',)\n",
            "--------------------------------------------------\n",
            "Review: This item is very long lasting\n",
            "Predicted Categories: ('Usability',)\n",
            "--------------------------------------------------\n"
          ]
        }
      ],
      "source": [
        "# Example Usage:\n",
        "new_reviews = [\n",
        "    \"This product was easy to install and works great. Highly recommended!\",\n",
        "    \"This item is very long lasting\"\n",
        "]\n",
        "\n",
        "# Predict categories for the new reviews\n",
        "predicted_categories = predict_categories(new_reviews, model, tokenizer, mlb)\n",
        "\n",
        "# Display predictions\n",
        "for review, categories in zip(new_reviews, predicted_categories):\n",
        "    print(f\"Review: {review}\")\n",
        "    print(f\"Predicted Categories: {categories}\")\n",
        "    print(\"-\" * 50)\n"
      ]
    }
  ],
  "metadata": {
    "colab": {
      "provenance": [],
      "toc_visible": true
    },
    "kernelspec": {
      "display_name": "Python 3",
      "name": "python3"
    },
    "language_info": {
      "name": "python"
    }
  },
  "nbformat": 4,
  "nbformat_minor": 0
}